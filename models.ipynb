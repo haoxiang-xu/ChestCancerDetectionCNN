{
 "cells": [
  {
   "cell_type": "markdown",
   "metadata": {},
   "source": [
    "#### Initalizing Variables and Preprocessing Datasets"
   ]
  },
  {
   "cell_type": "markdown",
   "metadata": {},
   "source": [
    "##### Packages"
   ]
  },
  {
   "cell_type": "code",
   "execution_count": 8,
   "metadata": {},
   "outputs": [],
   "source": [
    "import pywt\n",
    "import numpy as np\n",
    "import tensorflow as tf\n",
    "import matplotlib.pyplot as plt\n",
    "import tensorflow_wavelets.Layers.DWT as wavelet\n",
    "from keras.preprocessing.image import ImageDataGenerator"
   ]
  },
  {
   "cell_type": "markdown",
   "metadata": {},
   "source": [
    "##### Constents"
   ]
  },
  {
   "cell_type": "code",
   "execution_count": 10,
   "metadata": {},
   "outputs": [],
   "source": [
    "TRAIN_DATA_PATH = \"Data/train\"\n",
    "VALID_DATA_PATH = \"Data/valid\"\n",
    "TEST_DATA_PATH  = \"Data/test\"\n",
    "BATCH_SIZE      = 16\n",
    "TARGET_SIZE     = (227,227)\n",
    "INPUT_SHAPE     = [227,227,3]"
   ]
  },
  {
   "cell_type": "markdown",
   "metadata": {},
   "source": [
    "##### Data Preprocessing"
   ]
  },
  {
   "cell_type": "markdown",
   "metadata": {},
   "source": [
    "###### Training Data Preprocessing"
   ]
  },
  {
   "cell_type": "code",
   "execution_count": 11,
   "metadata": {},
   "outputs": [
    {
     "name": "stdout",
     "output_type": "stream",
     "text": [
      "Found 613 images belonging to 4 classes.\n"
     ]
    }
   ],
   "source": [
    "train_data_generator = tf.keras.preprocessing.image.ImageDataGenerator( rescale = 1.0/255.0,\n",
    "                                                                        horizontal_flip = True,\n",
    "                                                                        fill_mode = 'nearest',\n",
    "                                                                        zoom_range=0.2,\n",
    "                                                                        shear_range = 0.2,\n",
    "                                                                        width_shift_range=0.2,\n",
    "                                                                        height_shift_range=0.2,\n",
    "                                                                        rotation_range=0.4)\n",
    "\n",
    "train_data = train_data_generator.flow_from_directory(  TRAIN_DATA_PATH,\n",
    "                                                        batch_size = BATCH_SIZE,\n",
    "                                                        target_size = TARGET_SIZE,\n",
    "                                                        class_mode = 'categorical')"
   ]
  },
  {
   "cell_type": "markdown",
   "metadata": {},
   "source": [
    "###### Validation Data Preprocessing"
   ]
  },
  {
   "cell_type": "code",
   "execution_count": 12,
   "metadata": {},
   "outputs": [
    {
     "name": "stdout",
     "output_type": "stream",
     "text": [
      "Found 72 images belonging to 4 classes.\n"
     ]
    }
   ],
   "source": [
    "validation_data_generator = ImageDataGenerator(rescale = 1.0/255.0)\n",
    "\n",
    "validation_data = validation_data_generator.flow_from_directory(     VALID_DATA_PATH,\n",
    "                                                        target_size = TARGET_SIZE,\n",
    "                                                        batch_size = BATCH_SIZE,\n",
    "                                                        class_mode = 'categorical')"
   ]
  },
  {
   "cell_type": "markdown",
   "metadata": {},
   "source": [
    "#### Initalizing Convolutional Neural Networks"
   ]
  },
  {
   "cell_type": "markdown",
   "metadata": {},
   "source": [
    "##### Abstract Class"
   ]
  },
  {
   "cell_type": "code",
   "execution_count": 8,
   "metadata": {},
   "outputs": [],
   "source": [
    "class CNNModel:\n",
    "    def __init__(self, input_shape=0, model_type='', model_path=None):\n",
    "        self.model_type = model_type\n",
    "        self.history = None\n",
    "        self.history_accuracy = []\n",
    "        self.history_val_accuracy = []\n",
    "        self.history_loss = []\n",
    "        self.history_val_loss = []\n",
    "        self.input_shape = input_shape\n",
    "        self.model = tf.keras.models.Sequential()\n",
    "        if(model_path==None):\n",
    "            self.model_path = 'savedModel/CNNModel.ckpt'\n",
    "        else:\n",
    "            self.model_path = model_path\n",
    "        self.model_checkpoint = tf.keras.callbacks.ModelCheckpoint(self.model_path,save_weights_only=True,verbose=1)\n",
    "\n",
    "    def fit(self,train_data, validation_data, epochs):\n",
    "        self.history = self.model.fit(x = train_data, validation_data = validation_data, epochs = epochs, callbacks=[self.model_checkpoint])\n",
    "        self.history_accuracy.extend(self.history.history['accuracy'])\n",
    "        self.history_val_accuracy.extend(self.history.history['val_accuracy'])\n",
    "        self.history_loss.extend(self.history.history['loss'])\n",
    "        self.history_val_loss.extend(self.history.history['val_loss'])\n",
    "\n",
    "    def plotAccuracy(self):\n",
    "        if(self.history != None):\n",
    "            print(self.history.history.keys())\n",
    "            plt.plot(self.history_accuracy)\n",
    "            plt.plot(self.history_val_accuracy)\n",
    "            plt.title('model accuracy')\n",
    "            plt.ylabel('accuracy')\n",
    "            plt.xlabel('epoch')\n",
    "            plt.legend(['train','test'], loc='upper left')\n",
    "            plt.show()\n",
    "        \n",
    "    def plotLoss(self):\n",
    "        if(self.history != None):\n",
    "            plt.plot(self.history_loss)\n",
    "            plt.plot(self.history_val_loss)\n",
    "            plt.title('model loss')\n",
    "            plt.ylabel('loss')\n",
    "            plt.xlabel('epoch')\n",
    "            plt.legend(['train', 'test'], loc='upper left')\n",
    "            plt.show()\n",
    "\n",
    "    def compareAccuracy(models):\n",
    "        modelList = []\n",
    "        for model in models:\n",
    "            if(model.history != None):\n",
    "                plt.plot(model.history_accuracy)\n",
    "                modelList.append(model.model_type)\n",
    "        plt.ylabel('accuracy')\n",
    "        plt.xlabel('epoch')\n",
    "        plt.legend(modelList, loc='upper left')\n",
    "        plt.show()\n",
    "\n",
    "    def compareLoss(models):\n",
    "        modelList = []\n",
    "        for model in models:\n",
    "            if(model.history != None):\n",
    "                plt.plot(model.history_loss)\n",
    "                modelList.append(model.model_type)\n",
    "        plt.ylabel('loss')\n",
    "        plt.xlabel('epoch')\n",
    "        plt.legend(modelList, loc='upper left')\n",
    "        plt.show()\n",
    "\n",
    "    def predict(self, path):\n",
    "        classes_dir = [\"Adenocarcinoma\",\"Large cell carcinoma\",\"Normal\",\"Squamous cell carcinoma\"]\n",
    "        image = tf.keras.utils.load_img(path, target_size=TARGET_SIZE)\n",
    "        normalizedImage = tf.keras.utils.img_to_array(image)/255\n",
    "        imageArray = np.array([normalizedImage])\n",
    "        predtionResult = np.argmax(self.model.predict(imageArray))\n",
    "        print(classes_dir[predtionResult])\n",
    "\n",
    "    def load(self,model_path=None):\n",
    "        if(model_path==None):\n",
    "            self.model.load_weights(self.model_path)\n",
    "        else:\n",
    "            self.model.load_weights(model_path)"
   ]
  },
  {
   "cell_type": "markdown",
   "metadata": {},
   "source": [
    "##### AlexNet"
   ]
  },
  {
   "cell_type": "code",
   "execution_count": 9,
   "metadata": {},
   "outputs": [],
   "source": [
    "class AlexNet(CNNModel):\n",
    "    def __init__(self,input_shape=0,model_path='savedModel/AlexNet.ckpt'):\n",
    "\n",
    "        super().__init__(input_shape=input_shape,model_type=\"AlexNet\",model_path=model_path)\n",
    "        self.model.add(tf.keras.layers.Conv2D(filters=96, kernel_size=11, activation='relu', strides=4, input_shape=input_shape))\n",
    "        self.model.add(tf.keras.layers.MaxPool2D(pool_size=3,strides=2))\n",
    "        self.model.add(tf.keras.layers.Conv2D(filters=256, kernel_size=5, activation='relu'))\n",
    "        self.model.add(tf.keras.layers.MaxPool2D(pool_size=3,strides=2))\n",
    "        self.model.add(tf.keras.layers.Conv2D(filters=384, kernel_size=3, activation='relu'))\n",
    "        self.model.add(tf.keras.layers.Conv2D(filters=384, kernel_size=3, activation='relu'))\n",
    "        self.model.add(tf.keras.layers.Conv2D(filters=384, kernel_size=3, activation='relu'))\n",
    "        self.model.add(tf.keras.layers.MaxPool2D(pool_size=3,strides=2))\n",
    "        self.model.add(tf.keras.layers.Flatten())\n",
    "        self.model.add(tf.keras.layers.Dense(units=4096, activation='relu'))\n",
    "        self.model.add(tf.keras.layers.Dropout(0.5))\n",
    "        self.model.add(tf.keras.layers.Dense(units=4096, activation='relu'))\n",
    "        self.model.add(tf.keras.layers.Dropout(0.5))\n",
    "        self.model.add(tf.keras.layers.Dense(units=4, activation='softmax'))\n",
    "        self.model.compile(loss='categorical_crossentropy', optimizer=\"sgd\", metrics = ['accuracy'])"
   ]
  },
  {
   "cell_type": "markdown",
   "metadata": {},
   "source": [
    "##### Wavelet AlexNet"
   ]
  },
  {
   "cell_type": "code",
   "execution_count": 10,
   "metadata": {},
   "outputs": [],
   "source": [
    "class WaveletAlexNet(CNNModel):\n",
    "    def __init__(self,input_shape=0,model_path='savedModel/WaveletAlexNet.ckpt'):\n",
    "        opt = tf.keras.optimizers.SGD(momentum=0.9)\n",
    "\n",
    "        super().__init__(input_shape=input_shape,model_type=\"WaveletAlexNet\",model_path=model_path)\n",
    "        self.model.add(tf.keras.layers.Conv2D(filters=384, kernel_size=5, activation='relu', strides=4, input_shape=input_shape))\n",
    "\n",
    "        self.model.add(wavelet.DWT(name='bd2'))\n",
    "        self.model.add(tf.keras.layers.Reshape((112, 112, 96)))\n",
    "\n",
    "        self.model.add(tf.keras.layers.MaxPool2D(pool_size=3,strides=2))\n",
    "        self.model.add(tf.keras.layers.Conv2D(filters=256, kernel_size=5, activation='relu'))\n",
    "        self.model.add(tf.keras.layers.MaxPool2D(pool_size=3,strides=2))\n",
    "        self.model.add(tf.keras.layers.Conv2D(filters=384, kernel_size=3, activation='relu'))\n",
    "        self.model.add(tf.keras.layers.Conv2D(filters=384, kernel_size=3, activation='relu'))\n",
    "        self.model.add(tf.keras.layers.Conv2D(filters=384, kernel_size=3, activation='relu'))\n",
    "        self.model.add(tf.keras.layers.Conv2D(filters=384, kernel_size=3, activation='relu'))\n",
    "        self.model.add(tf.keras.layers.MaxPool2D(pool_size=3,strides=2))\n",
    "        self.model.add(tf.keras.layers.Flatten(input_shape = (2,2,384)))\n",
    "        self.model.add(tf.keras.layers.Dense(units=4096, activation='relu'))\n",
    "        self.model.add(tf.keras.layers.Dropout(0.5))\n",
    "        self.model.add(tf.keras.layers.Dense(units=4096, activation='relu'))\n",
    "        self.model.add(tf.keras.layers.Dropout(0.5))\n",
    "        self.model.add(tf.keras.layers.Dense(units=4, activation='softmax'))\n",
    "        self.model.compile(loss='categorical_crossentropy', optimizer=\"sgd\", metrics = ['accuracy'])"
   ]
  },
  {
   "cell_type": "markdown",
   "metadata": {},
   "source": [
    "##### ResNet"
   ]
  },
  {
   "cell_type": "code",
   "execution_count": 8,
   "metadata": {},
   "outputs": [],
   "source": [
    "class ResNet(CNNModel):\n",
    "    def __init__(self,input_shape=0,model_path='savedModel/ResNet.h5'):\n",
    "        if(input_shape==0):\n",
    "            super().__init__(input_shape=input_shape,model_type=\"ResNet\",model_path=model_path)\n",
    "        else:\n",
    "            super().__init__(input_shape=input_shape,model_type=\"ResNet\")\n",
    "            inputs = tf.keras.Input(shape=input_shape)\n",
    "            x = self.convolutional_block(inputs, 96)\n",
    "            res = self.residualBlock(x=x, kernel_size=11, filters=96)\n",
    "            x = self.convolutional_block(x, 96)\n",
    "            x = tf.keras.layers.Add()([x, res])\n",
    "        \n",
    "            x = tf.keras.layers.Flatten()(x)\n",
    "            x = tf.keras.layers.Dense(units=4096, activation='relu')(x)\n",
    "            x = tf.keras.layers.Dropout(0.5)(x)\n",
    "            outputs = tf.keras.layers.Dense(units=4, activation='softmax')(x)\n",
    "\n",
    "            self.model = tf.keras.models.Model(inputs=inputs, outputs=outputs)\n",
    "\n",
    "            self.model.compile(loss='categorical_crossentropy', optimizer=\"sgd\", metrics = ['accuracy'])\n",
    "\n",
    "    def residualBlock(self, x, kernel_size, filters):\n",
    "        fx = tf.keras.layers.Conv2D(filters, kernel_size, activation='relu', padding='same')(x)\n",
    "        fx = tf.keras.layers.BatchNormalization()(fx)\n",
    "        fx = tf.keras.layers.Conv2D(filters, kernel_size, padding='same')(fx)\n",
    "        out = tf.keras.layers.Add()([x,fx])\n",
    "        out = tf.keras.layers.ReLU()(out)\n",
    "        out = tf.keras.layers.BatchNormalization()(out)\n",
    "        return out\n",
    "\n",
    "    def convolutional_block(self,x, filter):\n",
    "        x_skip = x\n",
    "        x = tf.keras.layers.Conv2D(filter, (3,3), padding = 'same', strides = (2,2))(x)\n",
    "        x = tf.keras.layers.BatchNormalization(axis=3)(x)\n",
    "        x = tf.keras.layers.Activation('relu')(x)\n",
    "        x = tf.keras.layers.Conv2D(filter, (3,3), padding = 'same')(x)\n",
    "        x = tf.keras.layers.BatchNormalization(axis=3)(x)\n",
    "        x_skip = tf.keras.layers.Conv2D(filter, (1,1), strides = (2,2))(x_skip)\n",
    "        x = tf.keras.layers.Add()([x, x_skip])     \n",
    "        x = tf.keras.layers.Activation('relu')(x)\n",
    "        return x\n",
    "\n"
   ]
  },
  {
   "cell_type": "markdown",
   "metadata": {},
   "source": [
    "#### MAIN"
   ]
  },
  {
   "cell_type": "code",
   "execution_count": 10,
   "metadata": {},
   "outputs": [],
   "source": [
    "#alexNet = AlexNet(INPUT_SHAPE)"
   ]
  },
  {
   "cell_type": "code",
   "execution_count": 11,
   "metadata": {},
   "outputs": [],
   "source": [
    "alexNet.load()"
   ]
  },
  {
   "cell_type": "code",
   "execution_count": 18,
   "metadata": {},
   "outputs": [
    {
     "name": "stdout",
     "output_type": "stream",
     "text": [
      "Epoch 1/64\n",
      "39/39 [==============================] - ETA: 0s - loss: 0.1271 - accuracy: 0.9560\n",
      "Epoch 1: saving model to savedModel\\AlexNet.ckpt\n",
      "39/39 [==============================] - 5s 127ms/step - loss: 0.1271 - accuracy: 0.9560 - val_loss: 0.8012 - val_accuracy: 0.7917\n",
      "Epoch 2/64\n",
      "39/39 [==============================] - ETA: 0s - loss: 0.1833 - accuracy: 0.9315\n",
      "Epoch 2: saving model to savedModel\\AlexNet.ckpt\n",
      "39/39 [==============================] - 5s 132ms/step - loss: 0.1833 - accuracy: 0.9315 - val_loss: 0.6531 - val_accuracy: 0.8194\n",
      "Epoch 3/64\n",
      "39/39 [==============================] - ETA: 0s - loss: 0.1316 - accuracy: 0.9478\n",
      "Epoch 3: saving model to savedModel\\AlexNet.ckpt\n",
      "39/39 [==============================] - 5s 134ms/step - loss: 0.1316 - accuracy: 0.9478 - val_loss: 0.5723 - val_accuracy: 0.8056\n",
      "Epoch 4/64\n",
      "39/39 [==============================] - ETA: 0s - loss: 0.2411 - accuracy: 0.9201\n",
      "Epoch 4: saving model to savedModel\\AlexNet.ckpt\n",
      "39/39 [==============================] - 5s 130ms/step - loss: 0.2411 - accuracy: 0.9201 - val_loss: 0.9384 - val_accuracy: 0.7778\n",
      "Epoch 5/64\n",
      "39/39 [==============================] - ETA: 0s - loss: 0.1417 - accuracy: 0.9429\n",
      "Epoch 5: saving model to savedModel\\AlexNet.ckpt\n",
      "39/39 [==============================] - 5s 130ms/step - loss: 0.1417 - accuracy: 0.9429 - val_loss: 0.8136 - val_accuracy: 0.7361\n",
      "Epoch 6/64\n",
      "39/39 [==============================] - ETA: 0s - loss: 0.1316 - accuracy: 0.9511\n",
      "Epoch 6: saving model to savedModel\\AlexNet.ckpt\n",
      "39/39 [==============================] - 5s 128ms/step - loss: 0.1316 - accuracy: 0.9511 - val_loss: 0.7160 - val_accuracy: 0.8333\n",
      "Epoch 7/64\n",
      "39/39 [==============================] - ETA: 0s - loss: 0.1395 - accuracy: 0.9413\n",
      "Epoch 7: saving model to savedModel\\AlexNet.ckpt\n",
      "39/39 [==============================] - 5s 129ms/step - loss: 0.1395 - accuracy: 0.9413 - val_loss: 0.6253 - val_accuracy: 0.8472\n",
      "Epoch 8/64\n",
      "39/39 [==============================] - ETA: 0s - loss: 0.1227 - accuracy: 0.9560\n",
      "Epoch 8: saving model to savedModel\\AlexNet.ckpt\n",
      "39/39 [==============================] - 5s 129ms/step - loss: 0.1227 - accuracy: 0.9560 - val_loss: 0.7117 - val_accuracy: 0.8056\n",
      "Epoch 9/64\n",
      "39/39 [==============================] - ETA: 0s - loss: 0.2113 - accuracy: 0.9396\n",
      "Epoch 9: saving model to savedModel\\AlexNet.ckpt\n",
      "39/39 [==============================] - 5s 127ms/step - loss: 0.2113 - accuracy: 0.9396 - val_loss: 0.8220 - val_accuracy: 0.8194\n",
      "Epoch 10/64\n",
      "39/39 [==============================] - ETA: 0s - loss: 0.1940 - accuracy: 0.9282\n",
      "Epoch 10: saving model to savedModel\\AlexNet.ckpt\n",
      "39/39 [==============================] - 5s 131ms/step - loss: 0.1940 - accuracy: 0.9282 - val_loss: 0.7400 - val_accuracy: 0.8056\n",
      "Epoch 11/64\n",
      "39/39 [==============================] - ETA: 0s - loss: 0.1277 - accuracy: 0.9511\n",
      "Epoch 11: saving model to savedModel\\AlexNet.ckpt\n",
      "39/39 [==============================] - 5s 130ms/step - loss: 0.1277 - accuracy: 0.9511 - val_loss: 0.7129 - val_accuracy: 0.8472\n",
      "Epoch 12/64\n",
      "39/39 [==============================] - ETA: 0s - loss: 0.1024 - accuracy: 0.9657\n",
      "Epoch 12: saving model to savedModel\\AlexNet.ckpt\n",
      "39/39 [==============================] - 5s 127ms/step - loss: 0.1024 - accuracy: 0.9657 - val_loss: 0.2659 - val_accuracy: 0.9167\n",
      "Epoch 13/64\n",
      "39/39 [==============================] - ETA: 0s - loss: 0.2233 - accuracy: 0.9266\n",
      "Epoch 13: saving model to savedModel\\AlexNet.ckpt\n",
      "39/39 [==============================] - 5s 128ms/step - loss: 0.2233 - accuracy: 0.9266 - val_loss: 0.5937 - val_accuracy: 0.8194\n",
      "Epoch 14/64\n",
      "39/39 [==============================] - ETA: 0s - loss: 0.1100 - accuracy: 0.9543\n",
      "Epoch 14: saving model to savedModel\\AlexNet.ckpt\n",
      "39/39 [==============================] - 5s 129ms/step - loss: 0.1100 - accuracy: 0.9543 - val_loss: 0.6694 - val_accuracy: 0.8611\n",
      "Epoch 15/64\n",
      "39/39 [==============================] - ETA: 0s - loss: 0.1625 - accuracy: 0.9429\n",
      "Epoch 15: saving model to savedModel\\AlexNet.ckpt\n",
      "39/39 [==============================] - 5s 132ms/step - loss: 0.1625 - accuracy: 0.9429 - val_loss: 0.6851 - val_accuracy: 0.8472\n",
      "Epoch 16/64\n",
      "39/39 [==============================] - ETA: 0s - loss: 0.1558 - accuracy: 0.9364\n",
      "Epoch 16: saving model to savedModel\\AlexNet.ckpt\n",
      "39/39 [==============================] - 5s 131ms/step - loss: 0.1558 - accuracy: 0.9364 - val_loss: 0.5662 - val_accuracy: 0.8889\n",
      "Epoch 17/64\n",
      "39/39 [==============================] - ETA: 0s - loss: 0.3629 - accuracy: 0.8907\n",
      "Epoch 17: saving model to savedModel\\AlexNet.ckpt\n",
      "39/39 [==============================] - 5s 129ms/step - loss: 0.3629 - accuracy: 0.8907 - val_loss: 0.7204 - val_accuracy: 0.8056\n",
      "Epoch 18/64\n",
      "39/39 [==============================] - ETA: 0s - loss: 0.1242 - accuracy: 0.9625\n",
      "Epoch 18: saving model to savedModel\\AlexNet.ckpt\n",
      "39/39 [==============================] - 5s 128ms/step - loss: 0.1242 - accuracy: 0.9625 - val_loss: 0.6895 - val_accuracy: 0.8611\n",
      "Epoch 19/64\n",
      "39/39 [==============================] - ETA: 0s - loss: 0.1069 - accuracy: 0.9576\n",
      "Epoch 19: saving model to savedModel\\AlexNet.ckpt\n",
      "39/39 [==============================] - 5s 133ms/step - loss: 0.1069 - accuracy: 0.9576 - val_loss: 0.7617 - val_accuracy: 0.8472\n",
      "Epoch 20/64\n",
      "38/39 [============================>.] - ETA: 0s - loss: 0.0908 - accuracy: 0.9704\n",
      "Epoch 20: saving model to savedModel\\AlexNet.ckpt\n",
      "39/39 [==============================] - 5s 128ms/step - loss: 0.0951 - accuracy: 0.9690 - val_loss: 0.7882 - val_accuracy: 0.8194\n",
      "Epoch 21/64\n",
      "38/39 [============================>.] - ETA: 0s - loss: 0.3784 - accuracy: 0.8980\n",
      "Epoch 21: saving model to savedModel\\AlexNet.ckpt\n",
      "39/39 [==============================] - 5s 130ms/step - loss: 0.3773 - accuracy: 0.8972 - val_loss: 0.6608 - val_accuracy: 0.8333\n",
      "Epoch 22/64\n",
      "39/39 [==============================] - ETA: 0s - loss: 0.1318 - accuracy: 0.9511\n",
      "Epoch 22: saving model to savedModel\\AlexNet.ckpt\n",
      "39/39 [==============================] - 5s 132ms/step - loss: 0.1318 - accuracy: 0.9511 - val_loss: 0.5906 - val_accuracy: 0.8472\n",
      "Epoch 23/64\n",
      "39/39 [==============================] - ETA: 0s - loss: 0.1224 - accuracy: 0.9527\n",
      "Epoch 23: saving model to savedModel\\AlexNet.ckpt\n",
      "39/39 [==============================] - 5s 134ms/step - loss: 0.1224 - accuracy: 0.9527 - val_loss: 0.8353 - val_accuracy: 0.7639\n",
      "Epoch 24/64\n",
      "39/39 [==============================] - ETA: 0s - loss: 0.1847 - accuracy: 0.9396\n",
      "Epoch 24: saving model to savedModel\\AlexNet.ckpt\n",
      "39/39 [==============================] - 5s 129ms/step - loss: 0.1847 - accuracy: 0.9396 - val_loss: 0.5885 - val_accuracy: 0.8056\n",
      "Epoch 25/64\n",
      "39/39 [==============================] - ETA: 0s - loss: 0.0758 - accuracy: 0.9788\n",
      "Epoch 25: saving model to savedModel\\AlexNet.ckpt\n",
      "39/39 [==============================] - 5s 131ms/step - loss: 0.0758 - accuracy: 0.9788 - val_loss: 0.8146 - val_accuracy: 0.8056\n",
      "Epoch 26/64\n",
      "39/39 [==============================] - ETA: 0s - loss: 0.1802 - accuracy: 0.9364\n",
      "Epoch 26: saving model to savedModel\\AlexNet.ckpt\n",
      "39/39 [==============================] - 5s 129ms/step - loss: 0.1802 - accuracy: 0.9364 - val_loss: 0.8390 - val_accuracy: 0.7917\n",
      "Epoch 27/64\n",
      "39/39 [==============================] - ETA: 0s - loss: 0.1272 - accuracy: 0.9527\n",
      "Epoch 27: saving model to savedModel\\AlexNet.ckpt\n",
      "39/39 [==============================] - 5s 132ms/step - loss: 0.1272 - accuracy: 0.9527 - val_loss: 0.6178 - val_accuracy: 0.8194\n",
      "Epoch 28/64\n",
      "39/39 [==============================] - ETA: 0s - loss: 0.1188 - accuracy: 0.9576\n",
      "Epoch 28: saving model to savedModel\\AlexNet.ckpt\n",
      "39/39 [==============================] - 5s 136ms/step - loss: 0.1188 - accuracy: 0.9576 - val_loss: 0.8417 - val_accuracy: 0.8056\n",
      "Epoch 29/64\n",
      "39/39 [==============================] - ETA: 0s - loss: 0.0857 - accuracy: 0.9772\n",
      "Epoch 29: saving model to savedModel\\AlexNet.ckpt\n",
      "39/39 [==============================] - 5s 135ms/step - loss: 0.0857 - accuracy: 0.9772 - val_loss: 0.8466 - val_accuracy: 0.8056\n",
      "Epoch 30/64\n",
      "39/39 [==============================] - ETA: 0s - loss: 0.0903 - accuracy: 0.9641\n",
      "Epoch 30: saving model to savedModel\\AlexNet.ckpt\n",
      "39/39 [==============================] - 5s 130ms/step - loss: 0.0903 - accuracy: 0.9641 - val_loss: 0.9515 - val_accuracy: 0.8056\n",
      "Epoch 31/64\n",
      "39/39 [==============================] - ETA: 0s - loss: 0.0716 - accuracy: 0.9755\n",
      "Epoch 31: saving model to savedModel\\AlexNet.ckpt\n",
      "39/39 [==============================] - 5s 129ms/step - loss: 0.0716 - accuracy: 0.9755 - val_loss: 0.7636 - val_accuracy: 0.8333\n",
      "Epoch 32/64\n",
      "39/39 [==============================] - ETA: 0s - loss: 0.2276 - accuracy: 0.9299\n",
      "Epoch 32: saving model to savedModel\\AlexNet.ckpt\n",
      "39/39 [==============================] - 5s 128ms/step - loss: 0.2276 - accuracy: 0.9299 - val_loss: 0.7238 - val_accuracy: 0.8194\n",
      "Epoch 33/64\n",
      "39/39 [==============================] - ETA: 0s - loss: 0.0678 - accuracy: 0.9772\n",
      "Epoch 33: saving model to savedModel\\AlexNet.ckpt\n",
      "39/39 [==============================] - 5s 131ms/step - loss: 0.0678 - accuracy: 0.9772 - val_loss: 0.6266 - val_accuracy: 0.8889\n",
      "Epoch 34/64\n",
      "39/39 [==============================] - ETA: 0s - loss: 0.0822 - accuracy: 0.9755\n",
      "Epoch 34: saving model to savedModel\\AlexNet.ckpt\n",
      "39/39 [==============================] - 5s 130ms/step - loss: 0.0822 - accuracy: 0.9755 - val_loss: 0.6408 - val_accuracy: 0.8750\n",
      "Epoch 35/64\n",
      "39/39 [==============================] - ETA: 0s - loss: 0.0961 - accuracy: 0.9690\n",
      "Epoch 35: saving model to savedModel\\AlexNet.ckpt\n",
      "39/39 [==============================] - 5s 135ms/step - loss: 0.0961 - accuracy: 0.9690 - val_loss: 1.1332 - val_accuracy: 0.7639\n",
      "Epoch 36/64\n",
      "39/39 [==============================] - ETA: 0s - loss: 0.0887 - accuracy: 0.9723\n",
      "Epoch 36: saving model to savedModel\\AlexNet.ckpt\n",
      "39/39 [==============================] - 5s 129ms/step - loss: 0.0887 - accuracy: 0.9723 - val_loss: 0.7049 - val_accuracy: 0.8333\n",
      "Epoch 37/64\n",
      "39/39 [==============================] - ETA: 0s - loss: 0.0698 - accuracy: 0.9723\n",
      "Epoch 37: saving model to savedModel\\AlexNet.ckpt\n",
      "39/39 [==============================] - 5s 130ms/step - loss: 0.0698 - accuracy: 0.9723 - val_loss: 0.6238 - val_accuracy: 0.8472\n",
      "Epoch 38/64\n",
      "39/39 [==============================] - ETA: 0s - loss: 0.0805 - accuracy: 0.9755\n",
      "Epoch 38: saving model to savedModel\\AlexNet.ckpt\n",
      "39/39 [==============================] - 5s 131ms/step - loss: 0.0805 - accuracy: 0.9755 - val_loss: 0.7394 - val_accuracy: 0.8611\n",
      "Epoch 39/64\n",
      "39/39 [==============================] - ETA: 0s - loss: 0.1400 - accuracy: 0.9478\n",
      "Epoch 39: saving model to savedModel\\AlexNet.ckpt\n",
      "39/39 [==============================] - 5s 131ms/step - loss: 0.1400 - accuracy: 0.9478 - val_loss: 1.7764 - val_accuracy: 0.6944\n",
      "Epoch 40/64\n",
      "39/39 [==============================] - ETA: 0s - loss: 0.1309 - accuracy: 0.9592\n",
      "Epoch 40: saving model to savedModel\\AlexNet.ckpt\n",
      "39/39 [==============================] - 5s 131ms/step - loss: 0.1309 - accuracy: 0.9592 - val_loss: 0.8285 - val_accuracy: 0.8611\n",
      "Epoch 41/64\n",
      "39/39 [==============================] - ETA: 0s - loss: 0.0681 - accuracy: 0.9772\n",
      "Epoch 41: saving model to savedModel\\AlexNet.ckpt\n",
      "39/39 [==============================] - 5s 133ms/step - loss: 0.0681 - accuracy: 0.9772 - val_loss: 0.7949 - val_accuracy: 0.8333\n",
      "Epoch 42/64\n",
      "39/39 [==============================] - ETA: 0s - loss: 0.0765 - accuracy: 0.9821\n",
      "Epoch 42: saving model to savedModel\\AlexNet.ckpt\n",
      "39/39 [==============================] - 5s 128ms/step - loss: 0.0765 - accuracy: 0.9821 - val_loss: 0.6854 - val_accuracy: 0.8472\n",
      "Epoch 43/64\n",
      "39/39 [==============================] - ETA: 0s - loss: 0.0987 - accuracy: 0.9706\n",
      "Epoch 43: saving model to savedModel\\AlexNet.ckpt\n",
      "39/39 [==============================] - 5s 128ms/step - loss: 0.0987 - accuracy: 0.9706 - val_loss: 0.6341 - val_accuracy: 0.8750\n",
      "Epoch 44/64\n",
      "39/39 [==============================] - ETA: 0s - loss: 0.0625 - accuracy: 0.9837\n",
      "Epoch 44: saving model to savedModel\\AlexNet.ckpt\n",
      "39/39 [==============================] - 5s 128ms/step - loss: 0.0625 - accuracy: 0.9837 - val_loss: 0.7092 - val_accuracy: 0.8472\n",
      "Epoch 45/64\n",
      "39/39 [==============================] - ETA: 0s - loss: 0.0450 - accuracy: 0.9837\n",
      "Epoch 45: saving model to savedModel\\AlexNet.ckpt\n",
      "39/39 [==============================] - 5s 131ms/step - loss: 0.0450 - accuracy: 0.9837 - val_loss: 0.5519 - val_accuracy: 0.9167\n",
      "Epoch 46/64\n",
      "39/39 [==============================] - ETA: 0s - loss: 0.0526 - accuracy: 0.9804\n",
      "Epoch 46: saving model to savedModel\\AlexNet.ckpt\n",
      "39/39 [==============================] - 5s 131ms/step - loss: 0.0526 - accuracy: 0.9804 - val_loss: 0.8769 - val_accuracy: 0.8472\n",
      "Epoch 47/64\n",
      "39/39 [==============================] - ETA: 0s - loss: 0.1725 - accuracy: 0.9429\n",
      "Epoch 47: saving model to savedModel\\AlexNet.ckpt\n",
      "39/39 [==============================] - 5s 133ms/step - loss: 0.1725 - accuracy: 0.9429 - val_loss: 0.6787 - val_accuracy: 0.8472\n",
      "Epoch 48/64\n",
      "39/39 [==============================] - ETA: 0s - loss: 0.1141 - accuracy: 0.9576\n",
      "Epoch 48: saving model to savedModel\\AlexNet.ckpt\n",
      "39/39 [==============================] - 5s 129ms/step - loss: 0.1141 - accuracy: 0.9576 - val_loss: 0.6368 - val_accuracy: 0.8750\n",
      "Epoch 49/64\n",
      "39/39 [==============================] - ETA: 0s - loss: 0.0561 - accuracy: 0.9853\n",
      "Epoch 49: saving model to savedModel\\AlexNet.ckpt\n",
      "39/39 [==============================] - 5s 129ms/step - loss: 0.0561 - accuracy: 0.9853 - val_loss: 0.6495 - val_accuracy: 0.8611\n",
      "Epoch 50/64\n",
      "39/39 [==============================] - ETA: 0s - loss: 0.0444 - accuracy: 0.9853\n",
      "Epoch 50: saving model to savedModel\\AlexNet.ckpt\n",
      "39/39 [==============================] - 5s 130ms/step - loss: 0.0444 - accuracy: 0.9853 - val_loss: 0.6540 - val_accuracy: 0.8472\n",
      "Epoch 51/64\n",
      "39/39 [==============================] - ETA: 0s - loss: 0.0487 - accuracy: 0.9837\n",
      "Epoch 51: saving model to savedModel\\AlexNet.ckpt\n",
      "39/39 [==============================] - 5s 133ms/step - loss: 0.0487 - accuracy: 0.9837 - val_loss: 0.9318 - val_accuracy: 0.8056\n",
      "Epoch 52/64\n",
      "38/39 [============================>.] - ETA: 0s - loss: 0.0349 - accuracy: 0.9934\n",
      "Epoch 52: saving model to savedModel\\AlexNet.ckpt\n",
      "39/39 [==============================] - 5s 138ms/step - loss: 0.0348 - accuracy: 0.9935 - val_loss: 0.7359 - val_accuracy: 0.8472\n",
      "Epoch 53/64\n",
      "39/39 [==============================] - ETA: 0s - loss: 0.0783 - accuracy: 0.9690\n",
      "Epoch 53: saving model to savedModel\\AlexNet.ckpt\n",
      "39/39 [==============================] - 5s 133ms/step - loss: 0.0783 - accuracy: 0.9690 - val_loss: 1.2010 - val_accuracy: 0.7361\n",
      "Epoch 54/64\n",
      "39/39 [==============================] - ETA: 0s - loss: 0.0906 - accuracy: 0.9690\n",
      "Epoch 54: saving model to savedModel\\AlexNet.ckpt\n",
      "39/39 [==============================] - 5s 130ms/step - loss: 0.0906 - accuracy: 0.9690 - val_loss: 0.7397 - val_accuracy: 0.8750\n",
      "Epoch 55/64\n",
      "39/39 [==============================] - ETA: 0s - loss: 0.1043 - accuracy: 0.9657\n",
      "Epoch 55: saving model to savedModel\\AlexNet.ckpt\n",
      "39/39 [==============================] - 5s 129ms/step - loss: 0.1043 - accuracy: 0.9657 - val_loss: 0.8231 - val_accuracy: 0.8611\n",
      "Epoch 56/64\n",
      "39/39 [==============================] - ETA: 0s - loss: 0.0888 - accuracy: 0.9674\n",
      "Epoch 56: saving model to savedModel\\AlexNet.ckpt\n",
      "39/39 [==============================] - 5s 129ms/step - loss: 0.0888 - accuracy: 0.9674 - val_loss: 0.6076 - val_accuracy: 0.8750\n",
      "Epoch 57/64\n",
      "39/39 [==============================] - ETA: 0s - loss: 0.0485 - accuracy: 0.9837\n",
      "Epoch 57: saving model to savedModel\\AlexNet.ckpt\n",
      "39/39 [==============================] - 5s 131ms/step - loss: 0.0485 - accuracy: 0.9837 - val_loss: 0.6783 - val_accuracy: 0.8472\n",
      "Epoch 58/64\n",
      "39/39 [==============================] - ETA: 0s - loss: 0.0658 - accuracy: 0.9837\n",
      "Epoch 58: saving model to savedModel\\AlexNet.ckpt\n",
      "39/39 [==============================] - 5s 134ms/step - loss: 0.0658 - accuracy: 0.9837 - val_loss: 0.6058 - val_accuracy: 0.9167\n",
      "Epoch 59/64\n",
      "39/39 [==============================] - ETA: 0s - loss: 0.0358 - accuracy: 0.9886\n",
      "Epoch 59: saving model to savedModel\\AlexNet.ckpt\n",
      "39/39 [==============================] - 5s 130ms/step - loss: 0.0358 - accuracy: 0.9886 - val_loss: 0.8096 - val_accuracy: 0.8611\n",
      "Epoch 60/64\n",
      "39/39 [==============================] - ETA: 0s - loss: 0.1076 - accuracy: 0.9560\n",
      "Epoch 60: saving model to savedModel\\AlexNet.ckpt\n",
      "39/39 [==============================] - 5s 131ms/step - loss: 0.1076 - accuracy: 0.9560 - val_loss: 0.7666 - val_accuracy: 0.8056\n",
      "Epoch 61/64\n",
      "39/39 [==============================] - ETA: 0s - loss: 0.0350 - accuracy: 0.9951\n",
      "Epoch 61: saving model to savedModel\\AlexNet.ckpt\n",
      "39/39 [==============================] - 5s 131ms/step - loss: 0.0350 - accuracy: 0.9951 - val_loss: 0.7057 - val_accuracy: 0.9028\n",
      "Epoch 62/64\n",
      "39/39 [==============================] - ETA: 0s - loss: 0.0386 - accuracy: 0.9902\n",
      "Epoch 62: saving model to savedModel\\AlexNet.ckpt\n",
      "39/39 [==============================] - 5s 133ms/step - loss: 0.0386 - accuracy: 0.9902 - val_loss: 1.1564 - val_accuracy: 0.8056\n",
      "Epoch 63/64\n",
      "39/39 [==============================] - ETA: 0s - loss: 0.1376 - accuracy: 0.9625\n",
      "Epoch 63: saving model to savedModel\\AlexNet.ckpt\n",
      "39/39 [==============================] - 5s 131ms/step - loss: 0.1376 - accuracy: 0.9625 - val_loss: 0.7209 - val_accuracy: 0.8750\n",
      "Epoch 64/64\n",
      "39/39 [==============================] - ETA: 0s - loss: 0.0386 - accuracy: 0.9951\n",
      "Epoch 64: saving model to savedModel\\AlexNet.ckpt\n",
      "39/39 [==============================] - 5s 131ms/step - loss: 0.0386 - accuracy: 0.9951 - val_loss: 0.8408 - val_accuracy: 0.8056\n"
     ]
    }
   ],
   "source": [
    "alexNet.fit(train_data, validation_data, 64)"
   ]
  },
  {
   "cell_type": "code",
   "execution_count": 20,
   "metadata": {},
   "outputs": [
    {
     "data": {
      "image/png": "[encoded data removed]",
      "text/plain": [
       "<Figure size 432x288 with 1 Axes>"
      ]
     },
     "metadata": {
      "needs_background": "light"
     },
     "output_type": "display_data"
    }
   ],
   "source": [
    "CNNModel.compareAccuracy([alexNet])"
   ]
  },
  {
   "cell_type": "code",
   "execution_count": 19,
   "metadata": {},
   "outputs": [
    {
     "name": "stdout",
     "output_type": "stream",
     "text": [
      "1/1 [==============================] - 0s 12ms/step\n",
      "Squamous cell carcinoma\n"
     ]
    }
   ],
   "source": [
    "alexNet.predict(\"Data/test/adenocarcinoma/000114.png\")"
   ]
  },
  {
   "cell_type": "code",
   "execution_count": null,
   "metadata": {},
   "outputs": [
    {
     "name": "stdout",
     "output_type": "stream",
     "text": [
      "1/1 [==============================] - 0s 332ms/step\n",
      "Adenocarcinoma\n"
     ]
    }
   ],
   "source": [
    "waveletAlexNet.predict(\"Data/test/adenocarcinoma/000114.png\")"
   ]
  }
 ],
 "metadata": {
  "kernelspec": {
   "display_name": "Python 3.10.5 ('VirtualEnvironment': venv)",
   "language": "python",
   "name": "python3"
  },
  "language_info": {
   "codemirror_mode": {
    "name": "ipython",
    "version": 3
   },
   "file_extension": ".py",
   "mimetype": "text/x-python",
   "name": "python",
   "nbconvert_exporter": "python",
   "pygments_lexer": "ipython3",
   "version": "3.10.5"
  },
  "orig_nbformat": 4,
  "vscode": {
   "interpreter": {
    "hash": "227dce957ae5fd61bb4a075457c49d3981bedf3aecfd1d3fa06b5fc02257da21"
   }
  }
 },
 "nbformat": 4,
 "nbformat_minor": 2
}
