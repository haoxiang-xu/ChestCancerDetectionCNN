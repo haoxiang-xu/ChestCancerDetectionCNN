{
 "cells": [
  {
   "cell_type": "markdown",
   "metadata": {},
   "source": [
    "#### Initalizing Variables and Preprocessing Datasets"
   ]
  },
  {
   "cell_type": "markdown",
   "metadata": {},
   "source": [
    "##### Packages"
   ]
  },
  {
   "cell_type": "code",
   "execution_count": 1,
   "metadata": {},
   "outputs": [],
   "source": [
    "import numpy as np\n",
    "import tensorflow as tf\n",
    "import matplotlib.pyplot as plt\n",
    "import tensorflow_wavelets.Layers.DWT as wavelet\n",
    "from keras.preprocessing.image import ImageDataGenerator"
   ]
  },
  {
   "cell_type": "markdown",
   "metadata": {},
   "source": [
    "##### Constents"
   ]
  },
  {
   "cell_type": "code",
   "execution_count": 2,
   "metadata": {},
   "outputs": [],
   "source": [
    "TRAIN_DATA_PATH = \"Data/train\"\n",
    "VALID_DATA_PATH = \"Data/valid\"\n",
    "TEST_DATA_PATH  = \"Data/test\"\n",
    "BATCH_SIZE      = 16\n",
    "TARGET_SIZE     = (227,227)\n",
    "INPUT_SHAPE     = [227,227,3]"
   ]
  },
  {
   "cell_type": "markdown",
   "metadata": {},
   "source": [
    "##### Data Preprocessing"
   ]
  },
  {
   "cell_type": "markdown",
   "metadata": {},
   "source": [
    "###### Training Data Preprocessing"
   ]
  },
  {
   "cell_type": "code",
   "execution_count": 3,
   "metadata": {},
   "outputs": [
    {
     "name": "stdout",
     "output_type": "stream",
     "text": [
      "Found 613 images belonging to 4 classes.\n"
     ]
    }
   ],
   "source": [
    "train_data_generator = tf.keras.preprocessing.image.ImageDataGenerator( rescale = 1.0/255.0,\n",
    "                                                                        horizontal_flip = True,\n",
    "                                                                        fill_mode = 'nearest',\n",
    "                                                                        zoom_range=0.2,\n",
    "                                                                        shear_range = 0.2,\n",
    "                                                                        width_shift_range=0.2,\n",
    "                                                                        height_shift_range=0.2,\n",
    "                                                                        rotation_range=0.4)\n",
    "\n",
    "train_data = train_data_generator.flow_from_directory(  TRAIN_DATA_PATH,\n",
    "                                                        batch_size = BATCH_SIZE,\n",
    "                                                        target_size = TARGET_SIZE,\n",
    "                                                        class_mode = 'categorical')"
   ]
  },
  {
   "cell_type": "markdown",
   "metadata": {},
   "source": [
    "###### Validation Data Preprocessing"
   ]
  },
  {
   "cell_type": "code",
   "execution_count": 4,
   "metadata": {},
   "outputs": [
    {
     "name": "stdout",
     "output_type": "stream",
     "text": [
      "Found 72 images belonging to 4 classes.\n"
     ]
    }
   ],
   "source": [
    "validation_data_generator = ImageDataGenerator(rescale = 1.0/255.0)\n",
    "\n",
    "validation_data = validation_data_generator.flow_from_directory(     VALID_DATA_PATH,\n",
    "                                                        target_size = TARGET_SIZE,\n",
    "                                                        batch_size = BATCH_SIZE,\n",
    "                                                        class_mode = 'categorical')"
   ]
  },
  {
   "cell_type": "markdown",
   "metadata": {},
   "source": [
    "#### Initalizing Convolutional Neural Networks"
   ]
  },
  {
   "cell_type": "markdown",
   "metadata": {},
   "source": [
    "##### Abstract Class"
   ]
  },
  {
   "cell_type": "code",
   "execution_count": 5,
   "metadata": {},
   "outputs": [],
   "source": [
    "class CNNModel:\n",
    "    def __init__(self, input_shape=0, model_type='', model_path=None):\n",
    "        self.model_type = model_type\n",
    "        self.history = None\n",
    "        self.history_accuracy = []\n",
    "        self.history_val_accuracy = []\n",
    "        self.history_loss = []\n",
    "        self.history_val_loss = []\n",
    "        self.input_shape = input_shape\n",
    "        self.model = tf.keras.models.Sequential()\n",
    "        if(model_path==None):\n",
    "            self.model_path = 'savedModel/CNNModel.ckpt'\n",
    "        else:\n",
    "            self.model_path = model_path\n",
    "        self.model_checkpoint = tf.keras.callbacks.ModelCheckpoint(self.model_path,save_weights_only=True,verbose=1)\n",
    "\n",
    "    def fit(self,train_data, validation_data, epochs):\n",
    "        self.history = self.model.fit(x = train_data, validation_data = validation_data, epochs = epochs, callbacks=[self.model_checkpoint])\n",
    "        self.history_accuracy.extend(self.history.history['accuracy'])\n",
    "        self.history_val_accuracy.extend(self.history.history['val_accuracy'])\n",
    "        self.history_loss.extend(self.history.history['loss'])\n",
    "        self.history_val_loss.extend(self.history.history['val_loss'])\n",
    "\n",
    "    def plotAccuracy(self):\n",
    "        if(self.history != None):\n",
    "            print(self.history.history.keys())\n",
    "            plt.plot(self.history_accuracy)\n",
    "            plt.plot(self.history_val_accuracy)\n",
    "            plt.title('model accuracy')\n",
    "            plt.ylabel('accuracy')\n",
    "            plt.xlabel('epoch')\n",
    "            plt.legend(['train','test'], loc='upper left')\n",
    "            plt.show()\n",
    "        \n",
    "    def plotLoss(self):\n",
    "        if(self.history != None):\n",
    "            plt.plot(self.history_loss)\n",
    "            plt.plot(self.history_val_loss)\n",
    "            plt.title('model loss')\n",
    "            plt.ylabel('loss')\n",
    "            plt.xlabel('epoch')\n",
    "            plt.legend(['train', 'test'], loc='upper left')\n",
    "            plt.show()\n",
    "\n",
    "    def compareAccuracy(models):\n",
    "        modelList = []\n",
    "        for model in models:\n",
    "            if(model.history != None):\n",
    "                plt.plot(model.history_accuracy)\n",
    "                modelList.append(model.model_type)\n",
    "        plt.ylabel('accuracy')\n",
    "        plt.xlabel('epoch')\n",
    "        plt.legend(modelList, loc='upper left')\n",
    "        plt.show()\n",
    "\n",
    "    def compareLoss(models):\n",
    "        modelList = []\n",
    "        for model in models:\n",
    "            if(model.history != None):\n",
    "                plt.plot(model.history_loss)\n",
    "                modelList.append(model.model_type)\n",
    "        plt.ylabel('loss')\n",
    "        plt.xlabel('epoch')\n",
    "        plt.legend(modelList, loc='upper left')\n",
    "        plt.show()\n",
    "\n",
    "    def predict(self, path):\n",
    "        classes_dir = [\"Adenocarcinoma\",\"Large cell carcinoma\",\"Normal\",\"Squamous cell carcinoma\"]\n",
    "        image = tf.keras.utils.load_img(path, target_size=TARGET_SIZE)\n",
    "        normalizedImage = tf.keras.utils.img_to_array(image)/255\n",
    "        imageArray = np.array([normalizedImage])\n",
    "        predtionResult = np.argmax(self.model.predict(imageArray))\n",
    "        print(classes_dir[predtionResult])\n",
    "\n",
    "    def load(self,model_path=None):\n",
    "        if(model_path==None):\n",
    "            self.model.load_weights(self.model_path)\n",
    "        else:\n",
    "            self.model.load_weights(model_path)\n",
    "            \n",
    "    def summary(self):\n",
    "        print(self.model.summary())"
   ]
  },
  {
   "cell_type": "markdown",
   "metadata": {},
   "source": [
    "##### LeNet"
   ]
  },
  {
   "cell_type": "code",
   "execution_count": 6,
   "metadata": {},
   "outputs": [],
   "source": [
    "class LeNet(CNNModel):\n",
    "    def __init__(self,input_shape=0,model_path='savedModel/LeNet.ckpt'):\n",
    "\n",
    "        super().__init__(input_shape=input_shape,model_type=\"LeNet\",model_path=model_path)\n",
    "        self.model.add(tf.keras.layers.Conv2D(filters=6, kernel_size=5, activation='tanh', strides=1, input_shape=input_shape, padding=\"same\"))\n",
    "        self.model.add(tf.keras.layers.AveragePooling2D(pool_size=2,strides=2, padding=\"valid\"))\n",
    "        \n",
    "        self.model.add(tf.keras.layers.Conv2D(filters=16, kernel_size=5, strides=1, activation='tanh', padding=\"valid\"))\n",
    "        self.model.add(tf.keras.layers.AveragePooling2D(pool_size=2,strides=2, padding=\"valid\"))\n",
    "        \n",
    "        self.model.add(tf.keras.layers.Flatten())\n",
    "        self.model.add(tf.keras.layers.Dense(units=120, activation='tanh'))\n",
    "        self.model.add(tf.keras.layers.Dense(units=84, activation='tanh'))\n",
    "        self.model.add(tf.keras.layers.Dense(units=4, activation='softmax'))\n",
    "        self.model.compile(loss='categorical_crossentropy', optimizer=\"rmsprop\", metrics = ['accuracy'])"
   ]
  },
  {
   "cell_type": "markdown",
   "metadata": {},
   "source": [
    "##### AlexNet"
   ]
  },
  {
   "cell_type": "code",
   "execution_count": 7,
   "metadata": {},
   "outputs": [],
   "source": [
    "class AlexNet(CNNModel):\n",
    "    def __init__(self,input_shape=0,model_path='savedModel/AlexNet.ckpt'):\n",
    "\n",
    "        super().__init__(input_shape=input_shape,model_type=\"AlexNet\",model_path=model_path)\n",
    "        self.model.add(tf.keras.layers.Conv2D(filters=96, kernel_size=11, activation='relu', strides=4, input_shape=input_shape))\n",
    "        self.model.add(tf.keras.layers.MaxPool2D(pool_size=3,strides=2))\n",
    "        self.model.add(tf.keras.layers.Conv2D(filters=256, kernel_size=5, activation='relu'))\n",
    "        self.model.add(tf.keras.layers.MaxPool2D(pool_size=3,strides=2))\n",
    "        self.model.add(tf.keras.layers.Conv2D(filters=384, kernel_size=3, activation='relu'))\n",
    "        self.model.add(tf.keras.layers.Conv2D(filters=384, kernel_size=3, activation='relu'))\n",
    "        self.model.add(tf.keras.layers.Conv2D(filters=384, kernel_size=3, activation='relu'))\n",
    "        self.model.add(tf.keras.layers.MaxPool2D(pool_size=3,strides=2))\n",
    "        self.model.add(tf.keras.layers.Flatten())\n",
    "        self.model.add(tf.keras.layers.Dense(units=4096, activation='relu'))\n",
    "        self.model.add(tf.keras.layers.Dropout(0.5))\n",
    "        self.model.add(tf.keras.layers.Dense(units=4096, activation='relu'))\n",
    "        self.model.add(tf.keras.layers.Dropout(0.5))\n",
    "        self.model.add(tf.keras.layers.Dense(units=4, activation='softmax'))\n",
    "        self.model.compile(loss='categorical_crossentropy', optimizer=\"sgd\", metrics = ['accuracy'])"
   ]
  },
  {
   "cell_type": "markdown",
   "metadata": {},
   "source": [
    "##### Wavelet AlexNet"
   ]
  },
  {
   "cell_type": "code",
   "execution_count": 8,
   "metadata": {},
   "outputs": [],
   "source": [
    "class WaveletAlexNet(CNNModel):\n",
    "    def __init__(self,input_shape=0,model_path='savedModel/WaveletAlexNet.ckpt'):\n",
    "\n",
    "\n",
    "        super().__init__(input_shape=input_shape,model_type=\"WaveletAlexNet\",model_path=model_path)\n",
    "        self.model.add(tf.keras.layers.Conv2D(filters=384, kernel_size=5, activation='relu', strides=4, input_shape=input_shape))\n",
    "\n",
    "        self.model.add(wavelet.DWT(name='bd2'))\n",
    "        self.model.add(tf.keras.layers.Reshape((112, 112, 96)))\n",
    "\n",
    "        self.model.add(tf.keras.layers.MaxPool2D(pool_size=3,strides=2))\n",
    "        self.model.add(tf.keras.layers.Conv2D(filters=256, kernel_size=5, activation='relu'))\n",
    "        self.model.add(tf.keras.layers.MaxPool2D(pool_size=3,strides=2))\n",
    "        self.model.add(tf.keras.layers.Conv2D(filters=384, kernel_size=3, activation='relu'))\n",
    "        self.model.add(tf.keras.layers.Conv2D(filters=384, kernel_size=3, activation='relu'))\n",
    "        self.model.add(tf.keras.layers.Conv2D(filters=384, kernel_size=3, activation='relu'))\n",
    "        self.model.add(tf.keras.layers.Conv2D(filters=384, kernel_size=3, activation='relu'))\n",
    "        self.model.add(tf.keras.layers.MaxPool2D(pool_size=3,strides=2))\n",
    "        self.model.add(tf.keras.layers.Flatten(input_shape = (2,2,384)))\n",
    "        self.model.add(tf.keras.layers.Dense(units=4096, activation='relu'))\n",
    "        self.model.add(tf.keras.layers.Dropout(0.5))\n",
    "        self.model.add(tf.keras.layers.Dense(units=4096, activation='relu'))\n",
    "        self.model.add(tf.keras.layers.Dropout(0.5))\n",
    "        self.model.add(tf.keras.layers.Dense(units=4, activation='softmax'))\n",
    "        self.model.compile(loss='categorical_crossentropy', optimizer=\"sgd\", metrics = ['accuracy'])"
   ]
  },
  {
   "cell_type": "markdown",
   "metadata": {},
   "source": [
    "##### ResNet"
   ]
  },
  {
   "cell_type": "code",
   "execution_count": 9,
   "metadata": {},
   "outputs": [],
   "source": [
    "class ResNet(CNNModel):\n",
    "    def __init__(self,input_shape=0,model_path='savedModel/ResNet.h5'):\n",
    "        if(input_shape==0):\n",
    "            super().__init__(input_shape=input_shape,model_type=\"ResNet\",model_path=model_path)\n",
    "        else:\n",
    "            super().__init__(input_shape=input_shape,model_type=\"ResNet\")\n",
    "            pretrained_model= tf.keras.applications.ResNet50(include_top=False,\n",
    "            input_shape=INPUT_SHAPE,\n",
    "            pooling='avg',classes=5,\n",
    "            weights='imagenet')\n",
    "\n",
    "        for layer in pretrained_model.layers:\n",
    "            layer.trainable=True\n",
    "\n",
    "        self.model.add(pretrained_model)\n",
    "        self.model.add(tf.keras.layers.Flatten())\n",
    "        self.model.add(tf.keras.layers.Dense(512, activation='relu'))\n",
    "        self.model.add(tf.keras.layers.Dense(4, activation='softmax'))\n",
    "        self.model.compile(loss='categorical_crossentropy', optimizer=\"sgd\", metrics = ['accuracy'])\n",
    "            "
   ]
  },
  {
   "cell_type": "markdown",
   "metadata": {},
   "source": [
    "##### Modified ResNet"
   ]
  },
  {
   "cell_type": "code",
   "execution_count": 10,
   "metadata": {},
   "outputs": [],
   "source": [
    "class HybridResNet(CNNModel):\n",
    "    def __init__(self,input_shape=0,model_path='savedModel/HybridResNet.h5'):\n",
    "        if(input_shape==0):\n",
    "            super().__init__(input_shape=input_shape,model_type=\"HybridResNet\",model_path=model_path)\n",
    "        else:\n",
    "            super().__init__(input_shape=input_shape,model_type=\"HybridResNet\")\n",
    "            pretrained_model= tf.keras.applications.ResNet50(include_top=False,\n",
    "            input_shape=INPUT_SHAPE,\n",
    "            pooling='max',classes=5,\n",
    "            weights='imagenet')\n",
    "\n",
    "        for layer in pretrained_model.layers:\n",
    "            layer.trainable=True\n",
    "\n",
    "        self.model.add(pretrained_model)\n",
    "        self.model.add(tf.keras.layers.Flatten())\n",
    "        self.model.add(tf.keras.layers.Dense(512, activation='relu'))\n",
    "        self.model.add(tf.keras.layers.Dense(4, activation='softmax'))\n",
    "        self.model.compile(loss='categorical_crossentropy', optimizer=\"sgd\", metrics = ['accuracy'])"
   ]
  },
  {
   "cell_type": "markdown",
   "metadata": {},
   "source": [
    "#### MAIN"
   ]
  },
  {
   "cell_type": "markdown",
   "metadata": {},
   "source": [
    "##### Initialize Mode"
   ]
  },
  {
   "cell_type": "code",
   "execution_count": 11,
   "metadata": {},
   "outputs": [],
   "source": [
    "alexNet = AlexNet(INPUT_SHAPE)"
   ]
  },
  {
   "cell_type": "code",
   "execution_count": 12,
   "metadata": {},
   "outputs": [],
   "source": [
    "leNet = LeNet(INPUT_SHAPE)"
   ]
  },
  {
   "cell_type": "code",
   "execution_count": 13,
   "metadata": {},
   "outputs": [],
   "source": [
    "waveletAlexNet = WaveletAlexNet(INPUT_SHAPE)"
   ]
  },
  {
   "cell_type": "code",
   "execution_count": 14,
   "metadata": {},
   "outputs": [],
   "source": [
    "resNet = ResNet(INPUT_SHAPE)"
   ]
  },
  {
   "cell_type": "markdown",
   "metadata": {},
   "source": [
    "##### Summary Mode"
   ]
  },
  {
   "cell_type": "code",
   "execution_count": 15,
   "metadata": {},
   "outputs": [
    {
     "name": "stdout",
     "output_type": "stream",
     "text": [
      "Model: \"sequential_1\"\n",
      "_________________________________________________________________\n",
      " Layer (type)                Output Shape              Param #   \n",
      "=================================================================\n",
      " conv2d_5 (Conv2D)           (None, 227, 227, 6)       456       \n",
      "                                                                 \n",
      " average_pooling2d (AverageP  (None, 113, 113, 6)      0         \n",
      " ooling2D)                                                       \n",
      "                                                                 \n",
      " conv2d_6 (Conv2D)           (None, 109, 109, 16)      2416      \n",
      "                                                                 \n",
      " average_pooling2d_1 (Averag  (None, 54, 54, 16)       0         \n",
      " ePooling2D)                                                     \n",
      "                                                                 \n",
      " flatten_1 (Flatten)         (None, 46656)             0         \n",
      "                                                                 \n",
      " dense_3 (Dense)             (None, 120)               5598840   \n",
      "                                                                 \n",
      " dense_4 (Dense)             (None, 84)                10164     \n",
      "                                                                 \n",
      " dense_5 (Dense)             (None, 4)                 340       \n",
      "                                                                 \n",
      "=================================================================\n",
      "Total params: 5,612,216\n",
      "Trainable params: 5,612,216\n",
      "Non-trainable params: 0\n",
      "_________________________________________________________________\n",
      "None\n"
     ]
    }
   ],
   "source": [
    "leNet.summary()"
   ]
  },
  {
   "cell_type": "code",
   "execution_count": 16,
   "metadata": {},
   "outputs": [
    {
     "name": "stdout",
     "output_type": "stream",
     "text": [
      "Model: \"sequential\"\n",
      "_________________________________________________________________\n",
      " Layer (type)                Output Shape              Param #   \n",
      "=================================================================\n",
      " conv2d (Conv2D)             (None, 55, 55, 96)        34944     \n",
      "                                                                 \n",
      " max_pooling2d (MaxPooling2D  (None, 27, 27, 96)       0         \n",
      " )                                                               \n",
      "                                                                 \n",
      " conv2d_1 (Conv2D)           (None, 23, 23, 256)       614656    \n",
      "                                                                 \n",
      " max_pooling2d_1 (MaxPooling  (None, 11, 11, 256)      0         \n",
      " 2D)                                                             \n",
      "                                                                 \n",
      " conv2d_2 (Conv2D)           (None, 9, 9, 384)         885120    \n",
      "                                                                 \n",
      " conv2d_3 (Conv2D)           (None, 7, 7, 384)         1327488   \n",
      "                                                                 \n",
      " conv2d_4 (Conv2D)           (None, 5, 5, 384)         1327488   \n",
      "                                                                 \n",
      " max_pooling2d_2 (MaxPooling  (None, 2, 2, 384)        0         \n",
      " 2D)                                                             \n",
      "                                                                 \n",
      " flatten (Flatten)           (None, 1536)              0         \n",
      "                                                                 \n",
      " dense (Dense)               (None, 4096)              6295552   \n",
      "                                                                 \n",
      " dropout (Dropout)           (None, 4096)              0         \n",
      "                                                                 \n",
      " dense_1 (Dense)             (None, 4096)              16781312  \n",
      "                                                                 \n",
      " dropout_1 (Dropout)         (None, 4096)              0         \n",
      "                                                                 \n",
      " dense_2 (Dense)             (None, 4)                 16388     \n",
      "                                                                 \n",
      "=================================================================\n",
      "Total params: 27,282,948\n",
      "Trainable params: 27,282,948\n",
      "Non-trainable params: 0\n",
      "_________________________________________________________________\n",
      "None\n"
     ]
    }
   ],
   "source": [
    "alexNet.summary()"
   ]
  },
  {
   "cell_type": "markdown",
   "metadata": {},
   "source": [
    "##### Training Modes"
   ]
  },
  {
   "cell_type": "code",
   "execution_count": 41,
   "metadata": {},
   "outputs": [
    {
     "name": "stdout",
     "output_type": "stream",
     "text": [
      "Epoch 1/32\n",
      "39/39 [==============================] - ETA: 0s - loss: 1.5693 - accuracy: 0.2610\n",
      "Epoch 1: saving model to savedModel\\LeNet.ckpt\n",
      "39/39 [==============================] - 13s 181ms/step - loss: 1.5693 - accuracy: 0.2610 - val_loss: 1.3790 - val_accuracy: 0.2917\n",
      "Epoch 2/32\n",
      "39/39 [==============================] - ETA: 0s - loss: 1.3993 - accuracy: 0.2953\n",
      "Epoch 2: saving model to savedModel\\LeNet.ckpt\n",
      "39/39 [==============================] - 5s 133ms/step - loss: 1.3993 - accuracy: 0.2953 - val_loss: 1.5431 - val_accuracy: 0.3194\n",
      "Epoch 3/32\n",
      "39/39 [==============================] - ETA: 0s - loss: 1.4184 - accuracy: 0.2692\n",
      "Epoch 3: saving model to savedModel\\LeNet.ckpt\n",
      "39/39 [==============================] - 5s 132ms/step - loss: 1.4184 - accuracy: 0.2692 - val_loss: 1.4782 - val_accuracy: 0.2083\n",
      "Epoch 4/32\n",
      "39/39 [==============================] - ETA: 0s - loss: 1.3915 - accuracy: 0.3083\n",
      "Epoch 4: saving model to savedModel\\LeNet.ckpt\n",
      "39/39 [==============================] - 5s 134ms/step - loss: 1.3915 - accuracy: 0.3083 - val_loss: 1.4081 - val_accuracy: 0.3194\n",
      "Epoch 5/32\n",
      "39/39 [==============================] - ETA: 0s - loss: 1.3983 - accuracy: 0.2953\n",
      "Epoch 5: saving model to savedModel\\LeNet.ckpt\n",
      "39/39 [==============================] - 5s 134ms/step - loss: 1.3983 - accuracy: 0.2953 - val_loss: 1.4248 - val_accuracy: 0.3194\n",
      "Epoch 6/32\n",
      "39/39 [==============================] - ETA: 0s - loss: 1.3857 - accuracy: 0.3132\n",
      "Epoch 6: saving model to savedModel\\LeNet.ckpt\n",
      "39/39 [==============================] - 5s 132ms/step - loss: 1.3857 - accuracy: 0.3132 - val_loss: 1.3929 - val_accuracy: 0.3194\n",
      "Epoch 7/32\n",
      "39/39 [==============================] - ETA: 0s - loss: 1.3886 - accuracy: 0.2969\n",
      "Epoch 7: saving model to savedModel\\LeNet.ckpt\n",
      "39/39 [==============================] - 5s 132ms/step - loss: 1.3886 - accuracy: 0.2969 - val_loss: 1.4411 - val_accuracy: 0.3194\n",
      "Epoch 8/32\n",
      "39/39 [==============================] - ETA: 0s - loss: 1.3883 - accuracy: 0.2920\n",
      "Epoch 8: saving model to savedModel\\LeNet.ckpt\n",
      "39/39 [==============================] - 5s 134ms/step - loss: 1.3883 - accuracy: 0.2920 - val_loss: 1.4153 - val_accuracy: 0.3194\n",
      "Epoch 9/32\n",
      "39/39 [==============================] - ETA: 0s - loss: 1.3906 - accuracy: 0.2969\n",
      "Epoch 9: saving model to savedModel\\LeNet.ckpt\n",
      "39/39 [==============================] - 5s 133ms/step - loss: 1.3906 - accuracy: 0.2969 - val_loss: 1.4088 - val_accuracy: 0.3194\n",
      "Epoch 10/32\n",
      "39/39 [==============================] - ETA: 0s - loss: 1.3872 - accuracy: 0.2822\n",
      "Epoch 10: saving model to savedModel\\LeNet.ckpt\n",
      "39/39 [==============================] - 5s 133ms/step - loss: 1.3872 - accuracy: 0.2822 - val_loss: 1.4123 - val_accuracy: 0.3194\n",
      "Epoch 11/32\n",
      "39/39 [==============================] - ETA: 0s - loss: 1.3851 - accuracy: 0.2855\n",
      "Epoch 11: saving model to savedModel\\LeNet.ckpt\n",
      "39/39 [==============================] - 5s 134ms/step - loss: 1.3851 - accuracy: 0.2855 - val_loss: 1.3871 - val_accuracy: 0.3194\n",
      "Epoch 12/32\n",
      "39/39 [==============================] - ETA: 0s - loss: 1.3828 - accuracy: 0.3018\n",
      "Epoch 12: saving model to savedModel\\LeNet.ckpt\n",
      "39/39 [==============================] - 5s 132ms/step - loss: 1.3828 - accuracy: 0.3018 - val_loss: 1.4131 - val_accuracy: 0.3194\n",
      "Epoch 13/32\n",
      "39/39 [==============================] - ETA: 0s - loss: 1.3802 - accuracy: 0.2920\n",
      "Epoch 13: saving model to savedModel\\LeNet.ckpt\n",
      "39/39 [==============================] - 5s 133ms/step - loss: 1.3802 - accuracy: 0.2920 - val_loss: 1.3656 - val_accuracy: 0.3194\n",
      "Epoch 14/32\n",
      "39/39 [==============================] - ETA: 0s - loss: 1.3817 - accuracy: 0.3051\n",
      "Epoch 14: saving model to savedModel\\LeNet.ckpt\n",
      "39/39 [==============================] - 5s 133ms/step - loss: 1.3817 - accuracy: 0.3051 - val_loss: 1.3943 - val_accuracy: 0.3194\n",
      "Epoch 15/32\n",
      "39/39 [==============================] - ETA: 0s - loss: 1.3794 - accuracy: 0.2936\n",
      "Epoch 15: saving model to savedModel\\LeNet.ckpt\n",
      "39/39 [==============================] - 5s 136ms/step - loss: 1.3794 - accuracy: 0.2936 - val_loss: 1.3674 - val_accuracy: 0.3194\n",
      "Epoch 16/32\n",
      "39/39 [==============================] - ETA: 0s - loss: 1.3825 - accuracy: 0.3083\n",
      "Epoch 16: saving model to savedModel\\LeNet.ckpt\n",
      "39/39 [==============================] - 5s 134ms/step - loss: 1.3825 - accuracy: 0.3083 - val_loss: 1.4225 - val_accuracy: 0.3194\n",
      "Epoch 17/32\n",
      "39/39 [==============================] - ETA: 0s - loss: 1.3820 - accuracy: 0.3018\n",
      "Epoch 17: saving model to savedModel\\LeNet.ckpt\n",
      "39/39 [==============================] - 5s 132ms/step - loss: 1.3820 - accuracy: 0.3018 - val_loss: 1.4318 - val_accuracy: 0.3194\n",
      "Epoch 18/32\n",
      "39/39 [==============================] - ETA: 0s - loss: 1.3809 - accuracy: 0.3100\n",
      "Epoch 18: saving model to savedModel\\LeNet.ckpt\n",
      "39/39 [==============================] - 5s 135ms/step - loss: 1.3809 - accuracy: 0.3100 - val_loss: 1.4138 - val_accuracy: 0.2083\n",
      "Epoch 19/32\n",
      "39/39 [==============================] - ETA: 0s - loss: 1.3822 - accuracy: 0.2871\n",
      "Epoch 19: saving model to savedModel\\LeNet.ckpt\n",
      "39/39 [==============================] - 5s 134ms/step - loss: 1.3822 - accuracy: 0.2871 - val_loss: 1.4000 - val_accuracy: 0.3194\n",
      "Epoch 20/32\n",
      "39/39 [==============================] - ETA: 0s - loss: 1.3786 - accuracy: 0.2969\n",
      "Epoch 20: saving model to savedModel\\LeNet.ckpt\n",
      "39/39 [==============================] - 5s 132ms/step - loss: 1.3786 - accuracy: 0.2969 - val_loss: 1.4515 - val_accuracy: 0.1806\n",
      "Epoch 21/32\n",
      "39/39 [==============================] - ETA: 0s - loss: 1.3781 - accuracy: 0.3002\n",
      "Epoch 21: saving model to savedModel\\LeNet.ckpt\n",
      "39/39 [==============================] - 5s 134ms/step - loss: 1.3781 - accuracy: 0.3002 - val_loss: 1.3894 - val_accuracy: 0.3194\n",
      "Epoch 22/32\n",
      "39/39 [==============================] - ETA: 0s - loss: 1.3810 - accuracy: 0.3197\n",
      "Epoch 22: saving model to savedModel\\LeNet.ckpt\n",
      "39/39 [==============================] - 5s 133ms/step - loss: 1.3810 - accuracy: 0.3197 - val_loss: 1.3885 - val_accuracy: 0.2083\n",
      "Epoch 23/32\n",
      "39/39 [==============================] - ETA: 0s - loss: 1.3825 - accuracy: 0.2985\n",
      "Epoch 23: saving model to savedModel\\LeNet.ckpt\n",
      "39/39 [==============================] - 5s 133ms/step - loss: 1.3825 - accuracy: 0.2985 - val_loss: 1.3802 - val_accuracy: 0.3194\n",
      "Epoch 24/32\n",
      "39/39 [==============================] - ETA: 0s - loss: 1.3853 - accuracy: 0.3034\n",
      "Epoch 24: saving model to savedModel\\LeNet.ckpt\n",
      "39/39 [==============================] - 5s 133ms/step - loss: 1.3853 - accuracy: 0.3034 - val_loss: 1.4059 - val_accuracy: 0.3194\n",
      "Epoch 25/32\n",
      "39/39 [==============================] - ETA: 0s - loss: 1.3767 - accuracy: 0.3018\n",
      "Epoch 25: saving model to savedModel\\LeNet.ckpt\n",
      "39/39 [==============================] - 5s 132ms/step - loss: 1.3767 - accuracy: 0.3018 - val_loss: 1.3749 - val_accuracy: 0.3194\n",
      "Epoch 26/32\n",
      "39/39 [==============================] - ETA: 0s - loss: 1.3805 - accuracy: 0.3116\n",
      "Epoch 26: saving model to savedModel\\LeNet.ckpt\n",
      "39/39 [==============================] - 5s 135ms/step - loss: 1.3805 - accuracy: 0.3116 - val_loss: 1.4056 - val_accuracy: 0.3194\n",
      "Epoch 27/32\n",
      "39/39 [==============================] - ETA: 0s - loss: 1.3834 - accuracy: 0.3034\n",
      "Epoch 27: saving model to savedModel\\LeNet.ckpt\n",
      "39/39 [==============================] - 5s 134ms/step - loss: 1.3834 - accuracy: 0.3034 - val_loss: 1.4059 - val_accuracy: 0.3194\n",
      "Epoch 28/32\n",
      "39/39 [==============================] - ETA: 0s - loss: 1.3779 - accuracy: 0.2953\n",
      "Epoch 28: saving model to savedModel\\LeNet.ckpt\n",
      "39/39 [==============================] - 5s 132ms/step - loss: 1.3779 - accuracy: 0.2953 - val_loss: 1.4276 - val_accuracy: 0.3194\n",
      "Epoch 29/32\n",
      "39/39 [==============================] - ETA: 0s - loss: 1.3804 - accuracy: 0.3165\n",
      "Epoch 29: saving model to savedModel\\LeNet.ckpt\n",
      "39/39 [==============================] - 5s 135ms/step - loss: 1.3804 - accuracy: 0.3165 - val_loss: 1.3921 - val_accuracy: 0.3194\n",
      "Epoch 30/32\n",
      "39/39 [==============================] - ETA: 0s - loss: 1.3817 - accuracy: 0.3018\n",
      "Epoch 30: saving model to savedModel\\LeNet.ckpt\n",
      "39/39 [==============================] - 5s 135ms/step - loss: 1.3817 - accuracy: 0.3018 - val_loss: 1.3927 - val_accuracy: 0.3194\n",
      "Epoch 31/32\n",
      "39/39 [==============================] - ETA: 0s - loss: 1.3791 - accuracy: 0.3100\n",
      "Epoch 31: saving model to savedModel\\LeNet.ckpt\n",
      "39/39 [==============================] - 5s 134ms/step - loss: 1.3791 - accuracy: 0.3100 - val_loss: 1.4582 - val_accuracy: 0.3194\n",
      "Epoch 32/32\n",
      "39/39 [==============================] - ETA: 0s - loss: 1.3798 - accuracy: 0.3018\n",
      "Epoch 32: saving model to savedModel\\LeNet.ckpt\n",
      "39/39 [==============================] - 5s 135ms/step - loss: 1.3798 - accuracy: 0.3018 - val_loss: 1.3820 - val_accuracy: 0.3194\n"
     ]
    }
   ],
   "source": [
    "leNet.fit(train_data, validation_data, 32)"
   ]
  },
  {
   "cell_type": "code",
   "execution_count": 42,
   "metadata": {},
   "outputs": [
    {
     "name": "stdout",
     "output_type": "stream",
     "text": [
      "Epoch 1/32\n",
      "39/39 [==============================] - ETA: 0s - loss: 0.9405 - accuracy: 0.5791\n",
      "Epoch 1: saving model to savedModel\\CNNModel.ckpt\n",
      "39/39 [==============================] - 10s 171ms/step - loss: 0.9405 - accuracy: 0.5791 - val_loss: 1.4211 - val_accuracy: 0.2083\n",
      "Epoch 2/32\n",
      "39/39 [==============================] - ETA: 0s - loss: 0.5946 - accuracy: 0.7455\n",
      "Epoch 2: saving model to savedModel\\CNNModel.ckpt\n",
      "39/39 [==============================] - 5s 139ms/step - loss: 0.5946 - accuracy: 0.7455 - val_loss: 1.5145 - val_accuracy: 0.2083\n",
      "Epoch 3/32\n",
      "39/39 [==============================] - ETA: 0s - loss: 0.4393 - accuracy: 0.8238\n",
      "Epoch 3: saving model to savedModel\\CNNModel.ckpt\n",
      "39/39 [==============================] - 6s 142ms/step - loss: 0.4393 - accuracy: 0.8238 - val_loss: 1.5193 - val_accuracy: 0.2222\n",
      "Epoch 4/32\n",
      "39/39 [==============================] - ETA: 0s - loss: 0.3283 - accuracy: 0.8907\n",
      "Epoch 4: saving model to savedModel\\CNNModel.ckpt\n",
      "39/39 [==============================] - 5s 139ms/step - loss: 0.3283 - accuracy: 0.8907 - val_loss: 1.6532 - val_accuracy: 0.2083\n",
      "Epoch 5/32\n",
      "39/39 [==============================] - ETA: 0s - loss: 0.2156 - accuracy: 0.9250\n",
      "Epoch 5: saving model to savedModel\\CNNModel.ckpt\n",
      "39/39 [==============================] - 5s 139ms/step - loss: 0.2156 - accuracy: 0.9250 - val_loss: 2.0477 - val_accuracy: 0.2083\n",
      "Epoch 6/32\n",
      "39/39 [==============================] - ETA: 0s - loss: 0.1589 - accuracy: 0.9511\n",
      "Epoch 6: saving model to savedModel\\CNNModel.ckpt\n",
      "39/39 [==============================] - 5s 138ms/step - loss: 0.1589 - accuracy: 0.9511 - val_loss: 3.4522 - val_accuracy: 0.1667\n",
      "Epoch 7/32\n",
      "39/39 [==============================] - ETA: 0s - loss: 0.1576 - accuracy: 0.9347\n",
      "Epoch 7: saving model to savedModel\\CNNModel.ckpt\n",
      "39/39 [==============================] - 5s 138ms/step - loss: 0.1576 - accuracy: 0.9347 - val_loss: 2.0603 - val_accuracy: 0.0833\n",
      "Epoch 8/32\n",
      "39/39 [==============================] - ETA: 0s - loss: 0.1065 - accuracy: 0.9511\n",
      "Epoch 8: saving model to savedModel\\CNNModel.ckpt\n",
      "39/39 [==============================] - 5s 139ms/step - loss: 0.1065 - accuracy: 0.9511 - val_loss: 1.7829 - val_accuracy: 0.0278\n",
      "Epoch 9/32\n",
      "39/39 [==============================] - ETA: 0s - loss: 0.1152 - accuracy: 0.9592\n",
      "Epoch 9: saving model to savedModel\\CNNModel.ckpt\n",
      "39/39 [==============================] - 5s 138ms/step - loss: 0.1152 - accuracy: 0.9592 - val_loss: 2.1062 - val_accuracy: 0.2639\n",
      "Epoch 10/32\n",
      "39/39 [==============================] - ETA: 0s - loss: 0.0853 - accuracy: 0.9706\n",
      "Epoch 10: saving model to savedModel\\CNNModel.ckpt\n",
      "39/39 [==============================] - 5s 139ms/step - loss: 0.0853 - accuracy: 0.9706 - val_loss: 2.5526 - val_accuracy: 0.2361\n",
      "Epoch 11/32\n",
      "39/39 [==============================] - ETA: 0s - loss: 0.0619 - accuracy: 0.9821\n",
      "Epoch 11: saving model to savedModel\\CNNModel.ckpt\n",
      "39/39 [==============================] - 5s 139ms/step - loss: 0.0619 - accuracy: 0.9821 - val_loss: 1.9240 - val_accuracy: 0.2222\n",
      "Epoch 12/32\n",
      "39/39 [==============================] - ETA: 0s - loss: 0.1142 - accuracy: 0.9592\n",
      "Epoch 12: saving model to savedModel\\CNNModel.ckpt\n",
      "39/39 [==============================] - 6s 140ms/step - loss: 0.1142 - accuracy: 0.9592 - val_loss: 1.8195 - val_accuracy: 0.3472\n",
      "Epoch 13/32\n",
      "39/39 [==============================] - ETA: 0s - loss: 0.0697 - accuracy: 0.9739\n",
      "Epoch 13: saving model to savedModel\\CNNModel.ckpt\n",
      "39/39 [==============================] - 5s 139ms/step - loss: 0.0697 - accuracy: 0.9739 - val_loss: 2.6845 - val_accuracy: 0.2222\n",
      "Epoch 14/32\n",
      "39/39 [==============================] - ETA: 0s - loss: 0.0682 - accuracy: 0.9788\n",
      "Epoch 14: saving model to savedModel\\CNNModel.ckpt\n",
      "39/39 [==============================] - 5s 139ms/step - loss: 0.0682 - accuracy: 0.9788 - val_loss: 2.7047 - val_accuracy: 0.2083\n",
      "Epoch 15/32\n",
      "39/39 [==============================] - ETA: 0s - loss: 0.0705 - accuracy: 0.9723\n",
      "Epoch 15: saving model to savedModel\\CNNModel.ckpt\n",
      "39/39 [==============================] - 6s 140ms/step - loss: 0.0705 - accuracy: 0.9723 - val_loss: 4.2191 - val_accuracy: 0.2083\n",
      "Epoch 16/32\n",
      "39/39 [==============================] - ETA: 0s - loss: 0.0668 - accuracy: 0.9706\n",
      "Epoch 16: saving model to savedModel\\CNNModel.ckpt\n",
      "39/39 [==============================] - 6s 140ms/step - loss: 0.0668 - accuracy: 0.9706 - val_loss: 2.4325 - val_accuracy: 0.2500\n",
      "Epoch 17/32\n",
      "39/39 [==============================] - ETA: 0s - loss: 0.0542 - accuracy: 0.9821\n",
      "Epoch 17: saving model to savedModel\\CNNModel.ckpt\n",
      "39/39 [==============================] - 6s 142ms/step - loss: 0.0542 - accuracy: 0.9821 - val_loss: 3.2243 - val_accuracy: 0.2361\n",
      "Epoch 18/32\n",
      "39/39 [==============================] - ETA: 0s - loss: 0.0213 - accuracy: 0.9935\n",
      "Epoch 18: saving model to savedModel\\CNNModel.ckpt\n",
      "39/39 [==============================] - 6s 146ms/step - loss: 0.0213 - accuracy: 0.9935 - val_loss: 3.7569 - val_accuracy: 0.2778\n",
      "Epoch 19/32\n",
      "39/39 [==============================] - ETA: 0s - loss: 0.0304 - accuracy: 0.9886\n",
      "Epoch 19: saving model to savedModel\\CNNModel.ckpt\n",
      "39/39 [==============================] - 6s 145ms/step - loss: 0.0304 - accuracy: 0.9886 - val_loss: 3.9034 - val_accuracy: 0.3056\n",
      "Epoch 20/32\n",
      "39/39 [==============================] - ETA: 0s - loss: 0.0430 - accuracy: 0.9853\n",
      "Epoch 20: saving model to savedModel\\CNNModel.ckpt\n",
      "39/39 [==============================] - 6s 142ms/step - loss: 0.0430 - accuracy: 0.9853 - val_loss: 3.5298 - val_accuracy: 0.2361\n",
      "Epoch 21/32\n",
      "39/39 [==============================] - ETA: 0s - loss: 0.0286 - accuracy: 0.9918\n",
      "Epoch 21: saving model to savedModel\\CNNModel.ckpt\n",
      "39/39 [==============================] - 6s 141ms/step - loss: 0.0286 - accuracy: 0.9918 - val_loss: 3.0397 - val_accuracy: 0.3750\n",
      "Epoch 22/32\n",
      "39/39 [==============================] - ETA: 0s - loss: 0.0592 - accuracy: 0.9821\n",
      "Epoch 22: saving model to savedModel\\CNNModel.ckpt\n",
      "39/39 [==============================] - 5s 139ms/step - loss: 0.0592 - accuracy: 0.9821 - val_loss: 4.7362 - val_accuracy: 0.3056\n",
      "Epoch 23/32\n",
      "39/39 [==============================] - ETA: 0s - loss: 0.0267 - accuracy: 0.9902\n",
      "Epoch 23: saving model to savedModel\\CNNModel.ckpt\n",
      "39/39 [==============================] - 6s 143ms/step - loss: 0.0267 - accuracy: 0.9902 - val_loss: 1.5938 - val_accuracy: 0.5694\n",
      "Epoch 24/32\n",
      "39/39 [==============================] - ETA: 0s - loss: 0.0515 - accuracy: 0.9804\n",
      "Epoch 24: saving model to savedModel\\CNNModel.ckpt\n",
      "39/39 [==============================] - 6s 145ms/step - loss: 0.0515 - accuracy: 0.9804 - val_loss: 2.3277 - val_accuracy: 0.5000\n",
      "Epoch 25/32\n",
      "39/39 [==============================] - ETA: 0s - loss: 0.0158 - accuracy: 0.9935\n",
      "Epoch 25: saving model to savedModel\\CNNModel.ckpt\n",
      "39/39 [==============================] - 6s 151ms/step - loss: 0.0158 - accuracy: 0.9935 - val_loss: 2.5451 - val_accuracy: 0.5000\n",
      "Epoch 26/32\n",
      "39/39 [==============================] - ETA: 0s - loss: 0.0191 - accuracy: 0.9935\n",
      "Epoch 26: saving model to savedModel\\CNNModel.ckpt\n",
      "39/39 [==============================] - 5s 138ms/step - loss: 0.0191 - accuracy: 0.9935 - val_loss: 1.7978 - val_accuracy: 0.6250\n",
      "Epoch 27/32\n",
      "39/39 [==============================] - ETA: 0s - loss: 0.0379 - accuracy: 0.9886\n",
      "Epoch 27: saving model to savedModel\\CNNModel.ckpt\n",
      "39/39 [==============================] - 6s 140ms/step - loss: 0.0379 - accuracy: 0.9886 - val_loss: 0.5211 - val_accuracy: 0.8889\n",
      "Epoch 28/32\n",
      "39/39 [==============================] - ETA: 0s - loss: 0.0145 - accuracy: 0.9951\n",
      "Epoch 28: saving model to savedModel\\CNNModel.ckpt\n",
      "39/39 [==============================] - 6s 140ms/step - loss: 0.0145 - accuracy: 0.9951 - val_loss: 1.0713 - val_accuracy: 0.7500\n",
      "Epoch 29/32\n",
      "39/39 [==============================] - ETA: 0s - loss: 0.0141 - accuracy: 0.9951\n",
      "Epoch 29: saving model to savedModel\\CNNModel.ckpt\n",
      "39/39 [==============================] - 6s 144ms/step - loss: 0.0141 - accuracy: 0.9951 - val_loss: 0.6543 - val_accuracy: 0.8611\n",
      "Epoch 30/32\n",
      "39/39 [==============================] - ETA: 0s - loss: 0.0186 - accuracy: 0.9951\n",
      "Epoch 30: saving model to savedModel\\CNNModel.ckpt\n",
      "39/39 [==============================] - 6s 146ms/step - loss: 0.0186 - accuracy: 0.9951 - val_loss: 0.8440 - val_accuracy: 0.7917\n",
      "Epoch 31/32\n",
      "39/39 [==============================] - ETA: 0s - loss: 0.0264 - accuracy: 0.9886\n",
      "Epoch 31: saving model to savedModel\\CNNModel.ckpt\n",
      "39/39 [==============================] - 6s 146ms/step - loss: 0.0264 - accuracy: 0.9886 - val_loss: 0.5191 - val_accuracy: 0.8750\n",
      "Epoch 32/32\n",
      "39/39 [==============================] - ETA: 0s - loss: 0.0450 - accuracy: 0.9853\n",
      "Epoch 32: saving model to savedModel\\CNNModel.ckpt\n",
      "39/39 [==============================] - 6s 140ms/step - loss: 0.0450 - accuracy: 0.9853 - val_loss: 0.5831 - val_accuracy: 0.8056\n"
     ]
    }
   ],
   "source": [
    "resNet.fit(train_data, validation_data, 32)"
   ]
  },
  {
   "cell_type": "code",
   "execution_count": 43,
   "metadata": {},
   "outputs": [
    {
     "name": "stdout",
     "output_type": "stream",
     "text": [
      "Epoch 1/32\n",
      "39/39 [==============================] - ETA: 0s - loss: 1.3694 - accuracy: 0.3067\n",
      "Epoch 1: saving model to savedModel\\WaveletAlexNet.ckpt\n",
      "39/39 [==============================] - 9s 188ms/step - loss: 1.3694 - accuracy: 0.3067 - val_loss: 1.4001 - val_accuracy: 0.3194\n",
      "Epoch 2/32\n",
      "39/39 [==============================] - ETA: 0s - loss: 1.3394 - accuracy: 0.3148\n",
      "Epoch 2: saving model to savedModel\\WaveletAlexNet.ckpt\n",
      "39/39 [==============================] - 6s 160ms/step - loss: 1.3394 - accuracy: 0.3148 - val_loss: 1.3828 - val_accuracy: 0.4583\n",
      "Epoch 3/32\n",
      "39/39 [==============================] - ETA: 0s - loss: 1.3255 - accuracy: 0.3181\n",
      "Epoch 3: saving model to savedModel\\WaveletAlexNet.ckpt\n",
      "39/39 [==============================] - 7s 172ms/step - loss: 1.3255 - accuracy: 0.3181 - val_loss: 1.4149 - val_accuracy: 0.2222\n",
      "Epoch 4/32\n",
      "39/39 [==============================] - ETA: 0s - loss: 1.3095 - accuracy: 0.3768\n",
      "Epoch 4: saving model to savedModel\\WaveletAlexNet.ckpt\n",
      "39/39 [==============================] - 7s 173ms/step - loss: 1.3095 - accuracy: 0.3768 - val_loss: 1.3570 - val_accuracy: 0.4722\n",
      "Epoch 5/32\n",
      "39/39 [==============================] - ETA: 0s - loss: 1.2773 - accuracy: 0.4258\n",
      "Epoch 5: saving model to savedModel\\WaveletAlexNet.ckpt\n",
      "39/39 [==============================] - 7s 176ms/step - loss: 1.2773 - accuracy: 0.4258 - val_loss: 1.4246 - val_accuracy: 0.2083\n",
      "Epoch 6/32\n",
      "39/39 [==============================] - ETA: 0s - loss: 1.2485 - accuracy: 0.4372\n",
      "Epoch 6: saving model to savedModel\\WaveletAlexNet.ckpt\n",
      "39/39 [==============================] - 6s 155ms/step - loss: 1.2485 - accuracy: 0.4372 - val_loss: 1.3286 - val_accuracy: 0.2083\n",
      "Epoch 7/32\n",
      "39/39 [==============================] - ETA: 0s - loss: 1.2479 - accuracy: 0.4519\n",
      "Epoch 7: saving model to savedModel\\WaveletAlexNet.ckpt\n",
      "39/39 [==============================] - 6s 155ms/step - loss: 1.2479 - accuracy: 0.4519 - val_loss: 1.3495 - val_accuracy: 0.3333\n",
      "Epoch 8/32\n",
      "39/39 [==============================] - ETA: 0s - loss: 1.2231 - accuracy: 0.4715\n",
      "Epoch 8: saving model to savedModel\\WaveletAlexNet.ckpt\n",
      "39/39 [==============================] - 6s 165ms/step - loss: 1.2231 - accuracy: 0.4715 - val_loss: 1.2696 - val_accuracy: 0.3889\n",
      "Epoch 9/32\n",
      "39/39 [==============================] - ETA: 0s - loss: 1.2095 - accuracy: 0.4682\n",
      "Epoch 9: saving model to savedModel\\WaveletAlexNet.ckpt\n",
      "39/39 [==============================] - 7s 171ms/step - loss: 1.2095 - accuracy: 0.4682 - val_loss: 1.3936 - val_accuracy: 0.2083\n",
      "Epoch 10/32\n",
      "39/39 [==============================] - ETA: 0s - loss: 1.3027 - accuracy: 0.3736\n",
      "Epoch 10: saving model to savedModel\\WaveletAlexNet.ckpt\n",
      "39/39 [==============================] - 7s 166ms/step - loss: 1.3027 - accuracy: 0.3736 - val_loss: 1.2526 - val_accuracy: 0.4722\n",
      "Epoch 11/32\n",
      "39/39 [==============================] - ETA: 0s - loss: 1.2583 - accuracy: 0.4323\n",
      "Epoch 11: saving model to savedModel\\WaveletAlexNet.ckpt\n",
      "39/39 [==============================] - 7s 167ms/step - loss: 1.2583 - accuracy: 0.4323 - val_loss: 1.3911 - val_accuracy: 0.2083\n",
      "Epoch 12/32\n",
      "39/39 [==============================] - ETA: 0s - loss: 1.3711 - accuracy: 0.3018\n",
      "Epoch 12: saving model to savedModel\\WaveletAlexNet.ckpt\n",
      "39/39 [==============================] - 7s 166ms/step - loss: 1.3711 - accuracy: 0.3018 - val_loss: 1.3486 - val_accuracy: 0.3889\n",
      "Epoch 13/32\n",
      "39/39 [==============================] - ETA: 0s - loss: 1.2349 - accuracy: 0.4274\n",
      "Epoch 13: saving model to savedModel\\WaveletAlexNet.ckpt\n",
      "39/39 [==============================] - 6s 158ms/step - loss: 1.2349 - accuracy: 0.4274 - val_loss: 1.3115 - val_accuracy: 0.3194\n",
      "Epoch 14/32\n",
      "39/39 [==============================] - ETA: 0s - loss: 1.1878 - accuracy: 0.4910\n",
      "Epoch 14: saving model to savedModel\\WaveletAlexNet.ckpt\n",
      "39/39 [==============================] - 7s 166ms/step - loss: 1.1878 - accuracy: 0.4910 - val_loss: 1.2318 - val_accuracy: 0.3889\n",
      "Epoch 15/32\n",
      "39/39 [==============================] - ETA: 0s - loss: 1.1567 - accuracy: 0.4927\n",
      "Epoch 15: saving model to savedModel\\WaveletAlexNet.ckpt\n",
      "39/39 [==============================] - 7s 170ms/step - loss: 1.1567 - accuracy: 0.4927 - val_loss: 1.1907 - val_accuracy: 0.4444\n",
      "Epoch 16/32\n",
      "39/39 [==============================] - ETA: 0s - loss: 1.1758 - accuracy: 0.4731\n",
      "Epoch 16: saving model to savedModel\\WaveletAlexNet.ckpt\n",
      "39/39 [==============================] - 7s 178ms/step - loss: 1.1758 - accuracy: 0.4731 - val_loss: 1.4195 - val_accuracy: 0.2083\n",
      "Epoch 17/32\n",
      "39/39 [==============================] - ETA: 0s - loss: 1.2806 - accuracy: 0.4046\n",
      "Epoch 17: saving model to savedModel\\WaveletAlexNet.ckpt\n",
      "39/39 [==============================] - 6s 160ms/step - loss: 1.2806 - accuracy: 0.4046 - val_loss: 1.5089 - val_accuracy: 0.2500\n",
      "Epoch 18/32\n",
      "39/39 [==============================] - ETA: 0s - loss: 1.1851 - accuracy: 0.4731\n",
      "Epoch 18: saving model to savedModel\\WaveletAlexNet.ckpt\n",
      "39/39 [==============================] - 6s 155ms/step - loss: 1.1851 - accuracy: 0.4731 - val_loss: 1.1593 - val_accuracy: 0.4583\n",
      "Epoch 19/32\n",
      "39/39 [==============================] - ETA: 0s - loss: 1.1143 - accuracy: 0.5204\n",
      "Epoch 19: saving model to savedModel\\WaveletAlexNet.ckpt\n",
      "39/39 [==============================] - 6s 159ms/step - loss: 1.1143 - accuracy: 0.5204 - val_loss: 1.4449 - val_accuracy: 0.2083\n",
      "Epoch 20/32\n",
      "39/39 [==============================] - ETA: 0s - loss: 1.2839 - accuracy: 0.3866\n",
      "Epoch 20: saving model to savedModel\\WaveletAlexNet.ckpt\n",
      "39/39 [==============================] - 7s 167ms/step - loss: 1.2839 - accuracy: 0.3866 - val_loss: 1.1429 - val_accuracy: 0.4583\n",
      "Epoch 21/32\n",
      "39/39 [==============================] - ETA: 0s - loss: 1.1048 - accuracy: 0.5253\n",
      "Epoch 21: saving model to savedModel\\WaveletAlexNet.ckpt\n",
      "39/39 [==============================] - 7s 172ms/step - loss: 1.1048 - accuracy: 0.5253 - val_loss: 1.1339 - val_accuracy: 0.4861\n",
      "Epoch 22/32\n",
      "39/39 [==============================] - ETA: 0s - loss: 1.1384 - accuracy: 0.5008\n",
      "Epoch 22: saving model to savedModel\\WaveletAlexNet.ckpt\n",
      "39/39 [==============================] - 7s 173ms/step - loss: 1.1384 - accuracy: 0.5008 - val_loss: 1.2273 - val_accuracy: 0.3472\n",
      "Epoch 23/32\n",
      "39/39 [==============================] - ETA: 0s - loss: 1.0863 - accuracy: 0.5253\n",
      "Epoch 23: saving model to savedModel\\WaveletAlexNet.ckpt\n",
      "39/39 [==============================] - 6s 164ms/step - loss: 1.0863 - accuracy: 0.5253 - val_loss: 1.0978 - val_accuracy: 0.4444\n",
      "Epoch 24/32\n",
      "39/39 [==============================] - ETA: 0s - loss: 1.0550 - accuracy: 0.5351\n",
      "Epoch 24: saving model to savedModel\\WaveletAlexNet.ckpt\n",
      "39/39 [==============================] - 6s 159ms/step - loss: 1.0550 - accuracy: 0.5351 - val_loss: 1.1091 - val_accuracy: 0.4722\n",
      "Epoch 25/32\n",
      "39/39 [==============================] - ETA: 0s - loss: 1.0929 - accuracy: 0.5057\n",
      "Epoch 25: saving model to savedModel\\WaveletAlexNet.ckpt\n",
      "39/39 [==============================] - 6s 159ms/step - loss: 1.0929 - accuracy: 0.5057 - val_loss: 1.0742 - val_accuracy: 0.4583\n",
      "Epoch 26/32\n",
      "39/39 [==============================] - ETA: 0s - loss: 1.0770 - accuracy: 0.5563\n",
      "Epoch 26: saving model to savedModel\\WaveletAlexNet.ckpt\n",
      "39/39 [==============================] - 7s 167ms/step - loss: 1.0770 - accuracy: 0.5563 - val_loss: 1.2763 - val_accuracy: 0.2222\n",
      "Epoch 27/32\n",
      "39/39 [==============================] - ETA: 0s - loss: 1.0724 - accuracy: 0.5318\n",
      "Epoch 27: saving model to savedModel\\WaveletAlexNet.ckpt\n",
      "39/39 [==============================] - 7s 167ms/step - loss: 1.0724 - accuracy: 0.5318 - val_loss: 1.0742 - val_accuracy: 0.4861\n",
      "Epoch 28/32\n",
      "39/39 [==============================] - ETA: 0s - loss: 1.0824 - accuracy: 0.5253\n",
      "Epoch 28: saving model to savedModel\\WaveletAlexNet.ckpt\n",
      "39/39 [==============================] - 7s 179ms/step - loss: 1.0824 - accuracy: 0.5253 - val_loss: 1.1912 - val_accuracy: 0.2778\n",
      "Epoch 29/32\n",
      "39/39 [==============================] - ETA: 0s - loss: 1.0332 - accuracy: 0.5253\n",
      "Epoch 29: saving model to savedModel\\WaveletAlexNet.ckpt\n",
      "39/39 [==============================] - 6s 165ms/step - loss: 1.0332 - accuracy: 0.5253 - val_loss: 1.1996 - val_accuracy: 0.2639\n",
      "Epoch 30/32\n",
      "39/39 [==============================] - ETA: 0s - loss: 0.9802 - accuracy: 0.5481\n",
      "Epoch 30: saving model to savedModel\\WaveletAlexNet.ckpt\n",
      "39/39 [==============================] - 6s 163ms/step - loss: 0.9802 - accuracy: 0.5481 - val_loss: 1.1776 - val_accuracy: 0.4583\n",
      "Epoch 31/32\n",
      "39/39 [==============================] - ETA: 0s - loss: 1.0097 - accuracy: 0.5465\n",
      "Epoch 31: saving model to savedModel\\WaveletAlexNet.ckpt\n",
      "39/39 [==============================] - 7s 167ms/step - loss: 1.0097 - accuracy: 0.5465 - val_loss: 1.0368 - val_accuracy: 0.4583\n",
      "Epoch 32/32\n",
      "39/39 [==============================] - ETA: 0s - loss: 1.0097 - accuracy: 0.5595\n",
      "Epoch 32: saving model to savedModel\\WaveletAlexNet.ckpt\n",
      "39/39 [==============================] - 7s 170ms/step - loss: 1.0097 - accuracy: 0.5595 - val_loss: 1.0122 - val_accuracy: 0.5139\n"
     ]
    }
   ],
   "source": [
    "waveletAlexNet.fit(train_data, validation_data, 32)"
   ]
  },
  {
   "cell_type": "code",
   "execution_count": 44,
   "metadata": {},
   "outputs": [
    {
     "name": "stdout",
     "output_type": "stream",
     "text": [
      "Epoch 1/32\n",
      "39/39 [==============================] - ETA: 0s - loss: 1.3754 - accuracy: 0.3034\n",
      "Epoch 1: saving model to savedModel\\AlexNet.ckpt\n",
      "39/39 [==============================] - 7s 158ms/step - loss: 1.3754 - accuracy: 0.3034 - val_loss: 1.3842 - val_accuracy: 0.4722\n",
      "Epoch 2/32\n",
      "39/39 [==============================] - ETA: 0s - loss: 1.3512 - accuracy: 0.3132\n",
      "Epoch 2: saving model to savedModel\\AlexNet.ckpt\n",
      "39/39 [==============================] - 5s 140ms/step - loss: 1.3512 - accuracy: 0.3132 - val_loss: 1.3897 - val_accuracy: 0.1944\n",
      "Epoch 3/32\n",
      "39/39 [==============================] - ETA: 0s - loss: 1.3343 - accuracy: 0.2920\n",
      "Epoch 3: saving model to savedModel\\AlexNet.ckpt\n",
      "39/39 [==============================] - 5s 136ms/step - loss: 1.3343 - accuracy: 0.2920 - val_loss: 1.3854 - val_accuracy: 0.3889\n",
      "Epoch 4/32\n",
      "39/39 [==============================] - ETA: 0s - loss: 1.3268 - accuracy: 0.3344\n",
      "Epoch 4: saving model to savedModel\\AlexNet.ckpt\n",
      "39/39 [==============================] - 5s 140ms/step - loss: 1.3268 - accuracy: 0.3344 - val_loss: 1.3705 - val_accuracy: 0.4444\n",
      "Epoch 5/32\n",
      "39/39 [==============================] - ETA: 0s - loss: 1.3083 - accuracy: 0.4111\n",
      "Epoch 5: saving model to savedModel\\AlexNet.ckpt\n",
      "39/39 [==============================] - 6s 140ms/step - loss: 1.3083 - accuracy: 0.4111 - val_loss: 1.4079 - val_accuracy: 0.2083\n",
      "Epoch 6/32\n",
      "39/39 [==============================] - ETA: 0s - loss: 1.2932 - accuracy: 0.3573\n",
      "Epoch 6: saving model to savedModel\\AlexNet.ckpt\n",
      "39/39 [==============================] - 6s 144ms/step - loss: 1.2932 - accuracy: 0.3573 - val_loss: 1.3667 - val_accuracy: 0.3056\n",
      "Epoch 7/32\n",
      "39/39 [==============================] - ETA: 0s - loss: 1.2705 - accuracy: 0.4144\n",
      "Epoch 7: saving model to savedModel\\AlexNet.ckpt\n",
      "39/39 [==============================] - 5s 135ms/step - loss: 1.2705 - accuracy: 0.4144 - val_loss: 1.3860 - val_accuracy: 0.2222\n",
      "Epoch 8/32\n",
      "39/39 [==============================] - ETA: 0s - loss: 1.2426 - accuracy: 0.4698\n",
      "Epoch 8: saving model to savedModel\\AlexNet.ckpt\n",
      "39/39 [==============================] - 5s 138ms/step - loss: 1.2426 - accuracy: 0.4698 - val_loss: 1.3005 - val_accuracy: 0.4861\n",
      "Epoch 9/32\n",
      "39/39 [==============================] - ETA: 0s - loss: 1.2325 - accuracy: 0.4731\n",
      "Epoch 9: saving model to savedModel\\AlexNet.ckpt\n",
      "39/39 [==============================] - 5s 135ms/step - loss: 1.2325 - accuracy: 0.4731 - val_loss: 1.2562 - val_accuracy: 0.5139\n",
      "Epoch 10/32\n",
      "39/39 [==============================] - ETA: 0s - loss: 1.2127 - accuracy: 0.4633\n",
      "Epoch 10: saving model to savedModel\\AlexNet.ckpt\n",
      "39/39 [==============================] - 5s 132ms/step - loss: 1.2127 - accuracy: 0.4633 - val_loss: 1.3273 - val_accuracy: 0.3611\n",
      "Epoch 11/32\n",
      "39/39 [==============================] - ETA: 0s - loss: 1.1824 - accuracy: 0.5106\n",
      "Epoch 11: saving model to savedModel\\AlexNet.ckpt\n",
      "39/39 [==============================] - 5s 134ms/step - loss: 1.1824 - accuracy: 0.5106 - val_loss: 1.2423 - val_accuracy: 0.3333\n",
      "Epoch 12/32\n",
      "39/39 [==============================] - ETA: 0s - loss: 1.3114 - accuracy: 0.3605\n",
      "Epoch 12: saving model to savedModel\\AlexNet.ckpt\n",
      "39/39 [==============================] - 5s 136ms/step - loss: 1.3114 - accuracy: 0.3605 - val_loss: 1.2150 - val_accuracy: 0.5139\n",
      "Epoch 13/32\n",
      "39/39 [==============================] - ETA: 0s - loss: 1.1838 - accuracy: 0.4976\n",
      "Epoch 13: saving model to savedModel\\AlexNet.ckpt\n",
      "39/39 [==============================] - 5s 135ms/step - loss: 1.1838 - accuracy: 0.4976 - val_loss: 1.3510 - val_accuracy: 0.3194\n",
      "Epoch 14/32\n",
      "39/39 [==============================] - ETA: 0s - loss: 1.1936 - accuracy: 0.5220\n",
      "Epoch 14: saving model to savedModel\\AlexNet.ckpt\n",
      "39/39 [==============================] - 5s 135ms/step - loss: 1.1936 - accuracy: 0.5220 - val_loss: 1.2213 - val_accuracy: 0.3889\n",
      "Epoch 15/32\n",
      "39/39 [==============================] - ETA: 0s - loss: 1.1465 - accuracy: 0.5465\n",
      "Epoch 15: saving model to savedModel\\AlexNet.ckpt\n",
      "39/39 [==============================] - 5s 133ms/step - loss: 1.1465 - accuracy: 0.5465 - val_loss: 1.1291 - val_accuracy: 0.4861\n",
      "Epoch 16/32\n",
      "39/39 [==============================] - ETA: 0s - loss: 1.2053 - accuracy: 0.4959\n",
      "Epoch 16: saving model to savedModel\\AlexNet.ckpt\n",
      "39/39 [==============================] - 5s 133ms/step - loss: 1.2053 - accuracy: 0.4959 - val_loss: 1.1767 - val_accuracy: 0.5139\n",
      "Epoch 17/32\n",
      "39/39 [==============================] - ETA: 0s - loss: 1.1661 - accuracy: 0.4992\n",
      "Epoch 17: saving model to savedModel\\AlexNet.ckpt\n",
      "39/39 [==============================] - 5s 133ms/step - loss: 1.1661 - accuracy: 0.4992 - val_loss: 1.1846 - val_accuracy: 0.5139\n",
      "Epoch 18/32\n",
      "39/39 [==============================] - ETA: 0s - loss: 1.2211 - accuracy: 0.4747\n",
      "Epoch 18: saving model to savedModel\\AlexNet.ckpt\n",
      "39/39 [==============================] - 5s 135ms/step - loss: 1.2211 - accuracy: 0.4747 - val_loss: 1.1516 - val_accuracy: 0.5139\n",
      "Epoch 19/32\n",
      "39/39 [==============================] - ETA: 0s - loss: 1.1041 - accuracy: 0.5530\n",
      "Epoch 19: saving model to savedModel\\AlexNet.ckpt\n",
      "39/39 [==============================] - 5s 135ms/step - loss: 1.1041 - accuracy: 0.5530 - val_loss: 1.0903 - val_accuracy: 0.4722\n",
      "Epoch 20/32\n",
      "39/39 [==============================] - ETA: 0s - loss: 1.0974 - accuracy: 0.5155\n",
      "Epoch 20: saving model to savedModel\\AlexNet.ckpt\n",
      "39/39 [==============================] - 5s 138ms/step - loss: 1.0974 - accuracy: 0.5155 - val_loss: 1.1216 - val_accuracy: 0.3889\n",
      "Epoch 21/32\n",
      "39/39 [==============================] - ETA: 0s - loss: 1.1170 - accuracy: 0.5204\n",
      "Epoch 21: saving model to savedModel\\AlexNet.ckpt\n",
      "39/39 [==============================] - 5s 136ms/step - loss: 1.1170 - accuracy: 0.5204 - val_loss: 1.0848 - val_accuracy: 0.4722\n",
      "Epoch 22/32\n",
      "39/39 [==============================] - ETA: 0s - loss: 1.0812 - accuracy: 0.5726\n",
      "Epoch 22: saving model to savedModel\\AlexNet.ckpt\n",
      "39/39 [==============================] - 5s 134ms/step - loss: 1.0812 - accuracy: 0.5726 - val_loss: 1.0802 - val_accuracy: 0.4306\n",
      "Epoch 23/32\n",
      "39/39 [==============================] - ETA: 0s - loss: 1.1080 - accuracy: 0.5498\n",
      "Epoch 23: saving model to savedModel\\AlexNet.ckpt\n",
      "39/39 [==============================] - 5s 137ms/step - loss: 1.1080 - accuracy: 0.5498 - val_loss: 1.1833 - val_accuracy: 0.4861\n",
      "Epoch 24/32\n",
      "39/39 [==============================] - ETA: 0s - loss: 1.0562 - accuracy: 0.5563\n",
      "Epoch 24: saving model to savedModel\\AlexNet.ckpt\n",
      "39/39 [==============================] - 5s 134ms/step - loss: 1.0562 - accuracy: 0.5563 - val_loss: 1.0722 - val_accuracy: 0.4306\n",
      "Epoch 25/32\n",
      "39/39 [==============================] - ETA: 0s - loss: 1.0533 - accuracy: 0.5628\n",
      "Epoch 25: saving model to savedModel\\AlexNet.ckpt\n",
      "39/39 [==============================] - 5s 134ms/step - loss: 1.0533 - accuracy: 0.5628 - val_loss: 1.0962 - val_accuracy: 0.5000\n",
      "Epoch 26/32\n",
      "39/39 [==============================] - ETA: 0s - loss: 1.0395 - accuracy: 0.5889\n",
      "Epoch 26: saving model to savedModel\\AlexNet.ckpt\n",
      "39/39 [==============================] - 5s 135ms/step - loss: 1.0395 - accuracy: 0.5889 - val_loss: 1.0585 - val_accuracy: 0.4861\n",
      "Epoch 27/32\n",
      "39/39 [==============================] - ETA: 0s - loss: 1.0133 - accuracy: 0.5922\n",
      "Epoch 27: saving model to savedModel\\AlexNet.ckpt\n",
      "39/39 [==============================] - 5s 133ms/step - loss: 1.0133 - accuracy: 0.5922 - val_loss: 1.0380 - val_accuracy: 0.4861\n",
      "Epoch 28/32\n",
      "39/39 [==============================] - ETA: 0s - loss: 1.0428 - accuracy: 0.5710\n",
      "Epoch 28: saving model to savedModel\\AlexNet.ckpt\n",
      "39/39 [==============================] - 5s 134ms/step - loss: 1.0428 - accuracy: 0.5710 - val_loss: 1.0756 - val_accuracy: 0.4167\n",
      "Epoch 29/32\n",
      "39/39 [==============================] - ETA: 0s - loss: 0.9942 - accuracy: 0.5971\n",
      "Epoch 29: saving model to savedModel\\AlexNet.ckpt\n",
      "39/39 [==============================] - 5s 135ms/step - loss: 0.9942 - accuracy: 0.5971 - val_loss: 1.0791 - val_accuracy: 0.4028\n",
      "Epoch 30/32\n",
      "39/39 [==============================] - ETA: 0s - loss: 1.0025 - accuracy: 0.5693\n",
      "Epoch 30: saving model to savedModel\\AlexNet.ckpt\n",
      "39/39 [==============================] - 5s 135ms/step - loss: 1.0025 - accuracy: 0.5693 - val_loss: 1.0363 - val_accuracy: 0.4583\n",
      "Epoch 31/32\n",
      "39/39 [==============================] - ETA: 0s - loss: 1.0280 - accuracy: 0.5628\n",
      "Epoch 31: saving model to savedModel\\AlexNet.ckpt\n",
      "39/39 [==============================] - 5s 135ms/step - loss: 1.0280 - accuracy: 0.5628 - val_loss: 1.1567 - val_accuracy: 0.4722\n",
      "Epoch 32/32\n",
      "39/39 [==============================] - ETA: 0s - loss: 1.0348 - accuracy: 0.5383\n",
      "Epoch 32: saving model to savedModel\\AlexNet.ckpt\n",
      "39/39 [==============================] - 5s 136ms/step - loss: 1.0348 - accuracy: 0.5383 - val_loss: 1.0546 - val_accuracy: 0.4444\n"
     ]
    }
   ],
   "source": [
    "alexNet.fit(train_data, validation_data, 32)"
   ]
  },
  {
   "cell_type": "markdown",
   "metadata": {},
   "source": [
    "##### Comparing Accuracy\n"
   ]
  },
  {
   "cell_type": "code",
   "execution_count": 45,
   "metadata": {},
   "outputs": [
    {
     "data": {
      "image/png": "[encoded data removed]",
      "text/plain": [
       "<Figure size 432x288 with 1 Axes>"
      ]
     },
     "metadata": {
      "needs_background": "light"
     },
     "output_type": "display_data"
    }
   ],
   "source": [
    "CNNModel.compareAccuracy([alexNet,waveletAlexNet,resNet,leNet])"
   ]
  },
  {
   "cell_type": "markdown",
   "metadata": {},
   "source": [
    "##### Comparing Loss"
   ]
  },
  {
   "cell_type": "code",
   "execution_count": 46,
   "metadata": {},
   "outputs": [
    {
     "data": {
      "image/png": "[encoded data removed]",
      "text/plain": [
       "<Figure size 432x288 with 1 Axes>"
      ]
     },
     "metadata": {
      "needs_background": "light"
     },
     "output_type": "display_data"
    }
   ],
   "source": [
    "CNNModel.compareLoss([alexNet,waveletAlexNet,resNet,leNet])"
   ]
  },
  {
   "cell_type": "markdown",
   "metadata": {},
   "source": [
    "##### Make Prediction"
   ]
  },
  {
   "cell_type": "code",
   "execution_count": 19,
   "metadata": {},
   "outputs": [
    {
     "name": "stdout",
     "output_type": "stream",
     "text": [
      "1/1 [==============================] - 0s 13ms/step\n",
      "Squamous cell carcinoma\n"
     ]
    }
   ],
   "source": [
    "alexNet.predict(\"Data/test/adenocarcinoma/000114.png\")"
   ]
  },
  {
   "cell_type": "code",
   "execution_count": 20,
   "metadata": {},
   "outputs": [
    {
     "name": "stdout",
     "output_type": "stream",
     "text": [
      "1/1 [==============================] - 0s 26ms/step\n",
      "Squamous cell carcinoma\n"
     ]
    }
   ],
   "source": [
    "waveletAlexNet.predict(\"Data/test/adenocarcinoma/000114.png\")"
   ]
  },
  {
   "cell_type": "code",
   "execution_count": 21,
   "metadata": {},
   "outputs": [
    {
     "name": "stdout",
     "output_type": "stream",
     "text": [
      "1/1 [==============================] - 0s 15ms/step\n",
      "Adenocarcinoma\n"
     ]
    }
   ],
   "source": [
    "resNet.predict(\"Data/test/adenocarcinoma/000114.png\")"
   ]
  }
 ],
 "metadata": {
  "kernelspec": {
   "display_name": "Python 3.8.8 ('VirtualEnvironment': venv)",
   "language": "python",
   "name": "python3"
  },
  "language_info": {
   "codemirror_mode": {
    "name": "ipython",
    "version": 3
   },
   "file_extension": ".py",
   "mimetype": "text/x-python",
   "name": "python",
   "nbconvert_exporter": "python",
   "pygments_lexer": "ipython3",
   "version": "3.8.8"
  },
  "orig_nbformat": 4,
  "vscode": {
   "interpreter": {
    "hash": "227dce957ae5fd61bb4a075457c49d3981bedf3aecfd1d3fa06b5fc02257da21"
   }
  }
 },
 "nbformat": 4,
 "nbformat_minor": 2
}
